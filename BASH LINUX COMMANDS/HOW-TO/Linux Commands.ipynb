{
 "cells": [
  {
   "cell_type": "markdown",
   "source": [
    "# Basic Linux Commands Cheat-Sheet\n",
    "This list includes a bunch of different commands that are useful to know when working with Linux. Not all of these commands are covered in the videos, so feel free to investigate them on your own.\n",
    "\n",
    "## Managing files and directories\n",
    "`cd` directory: changes the current working directory to the specified one\n",
    "\n",
    "`pwd`: prints the current working directory\n",
    "\n",
    "`ls`: lists the contents of the current directory\n",
    "\n",
    "`ls directory`: lists the contents of the received directory\n",
    "\n",
    "`ls -l`: lists the additional information for the contents of the directory\n",
    "\n",
    "`ls -a`: lists all files, including those hidden\n",
    "\n",
    "`ls -la`: applies both the -l and the -a flags\n",
    "\n",
    "`mkdir directory`: creates the directory with the received name\n",
    "\n",
    "`rmdir directory`: deletes the directory with the received name (if empty)\n",
    "\n",
    "`cp old_name new_name`: copies old_name into new_name\n",
    "\n",
    "`mv old_name new_name`: moves old_name into new_name\n",
    "\n",
    "`touch file_name`: creates an empty file or updates the modified time if it exists\n",
    "\n",
    "`chmod modifiers files`: changes the permissions for the files according to the provided modifiers; we've seen +x to make the file executable\n",
    "\n",
    "`chown user files`: changes the owner of the files to the given user\n",
    "\n",
    "`chgrp group files`: changes the group of the files to the given group\n",
    "\n",
    "## Operating with the content of files\n",
    "`cat file`: shows the content of the file through standard output\n",
    "\n",
    "`wc file`: counts the amount of characters, words, and lines in the given file; can also count the same values of whatever it receives via stdin\n",
    "\n",
    "`file file`: prints the type of the given file, as recognized by the operating system\n",
    "\n",
    "`head file`: shows the first 10 lines of the given file\n",
    "\n",
    "`tail file`: shows the last 10 lines of the given file\n",
    "\n",
    "`less file`: scrolls through the contents of the given file (press \"q\" to quit)\n",
    "\n",
    "`sort file`: sorts the lines of the file alphabetically\n",
    "\n",
    "`cut -dseparator -ffields file`: for each line in the given file, splits the line according to the given separator and prints the given fields (starting from 1)\n",
    "\n",
    "## Additional commands\n",
    "`echo \"message\"`: prints the message to standard output\n",
    "\n",
    "`date`: prints the current date\n",
    "\n",
    "`who`: prints the list of users currently logged into the computer\n",
    "\n",
    "`man command`: shows the manual page of the given command; manual pages contain a lot of information explaining how to use each command (press \"q\" to quit)\n",
    "\n",
    "`uptime`: shows how long the computer has been running\n",
    "\n",
    "`free`: shows the amount of unused memory on the current system\n",
    "\n"
   ],
   "metadata": {
    "collapsed": false,
    "pycharm": {
     "name": "#%% md\n"
    }
   }
  },
  {
   "cell_type": "code",
   "execution_count": 18,
   "metadata": {
    "collapsed": true,
    "pycharm": {
     "name": "#%%\n"
    }
   },
   "outputs": [],
   "source": []
  },
  {
   "cell_type": "markdown",
   "source": [],
   "metadata": {
    "collapsed": false,
    "pycharm": {
     "name": "#%% md\n"
    }
   }
  },
  {
   "cell_type": "markdown",
   "source": [
    "# Redirections, Pipes and Signals\n",
    "\n",
    "## Managing streams\n",
    "These are the redirectors that we can use to take control of the streams of our programs\n",
    "\n",
    "`command > file`: redirects standard output, overwrites file\n",
    "\n",
    "`command >> file`: redirects standard output, appends to file\n",
    "\n",
    "`command < file`: redirects standard input from file\n",
    "\n",
    "`command 2> file`: redirects standard error to file\n",
    "\n",
    "`command1 | command2`: connects the output of command1 to the input of command2\n",
    "\n",
    "\n",
    "## Operating with processes\n",
    "\n",
    "These are some commands that are useful to know in Linux when interacting with processes. Not all of them are explained in videos, so feel free to investigate them on your own.\n",
    "\n",
    "`ps`: lists the processes executing in the current terminal for the current user\n",
    "\n",
    "`ps ax`: lists all processes currently executing for all users\n",
    "\n",
    "`ps e`: shows the environment for the processes listed\n",
    "\n",
    "`kill PID`: sends the SIGTERM signal to the process identified by PID\n",
    "\n",
    "`fg`: causes a job that was stopped or in the background to return to the foreground\n",
    "\n",
    "`bg`: causes a job that was stopped to go to the background\n",
    "\n",
    "`jobs`: lists the jobs currently running or stopped\n",
    "\n",
    "`top`: shows the processes currently using the most CPU time (press \"q\" to quit)"
   ],
   "metadata": {
    "collapsed": false,
    "pycharm": {
     "name": "#%% md\n"
    }
   }
  },
  {
   "cell_type": "markdown",
   "source": [],
   "metadata": {
    "collapsed": false,
    "pycharm": {
     "name": "#%% md\n"
    }
   }
  },
  {
   "cell_type": "markdown",
   "source": [
    "# Quiz\n",
    "\n",
    "Question 1\n",
    "Which of the following commands will redirect errors in a script to a file?\n",
    "\n",
    "user@ubuntu:~$ ./calculator.py < error_file.txt\n",
    "user@ubuntu:~$ ./calculator.py 2> error_file.txt\n",
    "user@ubuntu:~$ ./calculator.py >> error_file.txt\n",
    "user@ubuntu:~$ ./calculator.py > error_file.txt\n",
    "\n",
    "\n",
    "Question 2\n",
    "When running a kill command in a terminal, what type of signal is being sent to the process?\n",
    "\n",
    "SIGSTOP\n",
    "PID\n",
    "SIGINT\n",
    "SIGTERM\n",
    "\n",
    "\n",
    "Question 3\n",
    "What is required in order to read from standard input using Python?\n",
    "\n",
    "echo file.txt\n",
    "cat file.txt\n",
    "The file descriptor of the STDIN stream\n",
    "Stdin file object from sys module\n",
    "\n",
    "\n",
    "Question 4\n",
    "_____ are tokens delivered to running processes to indicate a desired action.\n",
    "\n",
    "Signals\n",
    "Methods\n",
    "Functions\n",
    "Commands\n",
    "\n",
    "\n",
    "Question 5\n",
    "In Linux, what command is used to display the contents of a directory\n",
    "\n",
    "rmdir\n",
    "cp\n",
    "pwd\n",
    "ls\n"
   ],
   "metadata": {
    "collapsed": false,
    "pycharm": {
     "name": "#%% md\n"
    }
   }
  },
  {
   "cell_type": "markdown",
   "source": [
    "# Bash Scripting Resources\n",
    "\n",
    "Check out the following links for more information:\n",
    "\n",
    "https://ryanstutorials.net/bash-scripting-tutorial/\n",
    "\n",
    "https://linuxconfig.org/bash-scripting-tutorial-for-beginners\n",
    "\n",
    "https://www.shellscript.sh"
   ],
   "metadata": {
    "collapsed": false,
    "pycharm": {
     "name": "#%% md\n"
    }
   }
  },
  {
   "cell_type": "markdown",
   "source": [],
   "metadata": {
    "collapsed": false,
    "pycharm": {
     "name": "#%% md\n"
    }
   }
  },
  {
   "cell_type": "markdown",
   "source": [
    "# Practice Quiz: Bash Scripting\n",
    "Question 1\n",
    "Which of the following commands will output a list of all files in the current directory?\n",
    "\n",
    "echo a*\n",
    "echo *\n",
    "echo *.py\n",
    "echo ?.py\n",
    "\n",
    "Correct\n",
    "Right on! The star [*] globe will echo or output all files in the current directory.\n",
    "\n",
    "\n",
    "Question 2\n",
    "Which module can you load in a Python script to take advantage of star [*] like in BASH?\n",
    "\n",
    "ps\n",
    "Free\n",
    "stdin\n",
    "Glob\n",
    "\n",
    "Correct\n",
    "Woohoo! The `glob` module must be imported into a Python script to utilize star [*] like in BASH.\n",
    "\n",
    "\n",
    "Question 3\n",
    "Conditional execution is based on the _____ of commands.\n",
    "\n",
    "environment variables\n",
    "parameters\n",
    "exit status\n",
    "test results\n",
    "\n",
    "Correct\n",
    "Nice job! In Bash scripting, the condition used in conditional execution is based on the `exit status` of commands.\n",
    "\n",
    "\n",
    "Question 4\n",
    "What command evaluates the conditions received on exit to verify that there is an exit status of 0 when the conditions are true, and 1 when they are false?\n",
    "\n",
    "test\n",
    "grep\n",
    "echo\n",
    "export\n",
    "\n",
    "Correct\n",
    "Great work! `test` is a command that evaluates the conditions received and exits with zero when they’re true and with one when they’re false.\n",
    "\n",
    "\n",
    "Question 5\n",
    "The opening square bracket ([), when combined with the closing square bracket (]), is an alias for which command?\n",
    "\n",
    "\n",
    "glob\n",
    "test\n",
    "export\n",
    "if\n",
    "\n",
    "Correct\n",
    "Right on! The `test` command can be called with square brackets ([])."
   ],
   "metadata": {
    "collapsed": false,
    "pycharm": {
     "name": "#%% md\n"
    }
   }
  },
  {
   "cell_type": "markdown",
   "source": [
    "\n",
    "This is correct for all"
   ],
   "metadata": {
    "collapsed": false,
    "pycharm": {
     "name": "#%% md\n"
    }
   }
  }
 ],
 "metadata": {
  "kernelspec": {
   "display_name": "Python 3",
   "language": "python",
   "name": "python3"
  },
  "language_info": {
   "codemirror_mode": {
    "name": "ipython",
    "version": 2
   },
   "file_extension": ".py",
   "mimetype": "text/x-python",
   "name": "python",
   "nbconvert_exporter": "python",
   "pygments_lexer": "ipython2",
   "version": "2.7.6"
  }
 },
 "nbformat": 4,
 "nbformat_minor": 0
}