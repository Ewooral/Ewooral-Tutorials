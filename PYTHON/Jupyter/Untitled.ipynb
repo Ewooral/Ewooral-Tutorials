{
 "cells": [
  {
   "cell_type": "code",
   "execution_count": 4,
   "id": "ee5bcd80",
   "metadata": {},
   "outputs": [
    {
     "data": {
      "text/plain": [
       "array([[-2147483647,           0,  1339174003],\n",
       "       [         20,        1281,  1039514339],\n",
       "       [          0,    83886080, -1332079741],\n",
       "       [          0,          21,        1001]])"
      ]
     },
     "execution_count": 4,
     "metadata": {},
     "output_type": "execute_result"
    }
   ],
   "source": [
    "import numpy as np\n",
    "  \n",
    "np.empty([4, 3],\n",
    "         dtype = np.int32,\n",
    "         order = 'f')"
   ]
  },
  {
   "cell_type": "code",
   "execution_count": 2,
   "id": "ebfb8fc2",
   "metadata": {},
   "outputs": [
    {
     "name": "stdout",
     "output_type": "stream",
     "text": [
      "[[  1   2   4  -1]\n",
      " [  3   2   5   1]\n",
      " [  1   8   3 -77]]\n",
      "TensorFlow version: 2.8.0\n"
     ]
    }
   ],
   "source": [
    "import numpy as np\n",
    "from tensorflow.keras import Model\n",
    "from tensorflow.keras.layers import Dense, Flatten, Conv2D\n",
    "import tensorflow as tf\n",
    "a = np.array([[1, 2, 4, -1],\n",
    "              [3, 2, 5, 1],\n",
    "              [1, 8, 3, -77]])\n",
    "print(a)\n",
    "print(\"TensorFlow version:\", tf.__version__)\n"
   ]
  },
  {
   "cell_type": "code",
   "execution_count": 6,
   "id": "365bd684",
   "metadata": {},
   "outputs": [
    {
     "name": "stdout",
     "output_type": "stream",
     "text": [
      "45\n"
     ]
    }
   ],
   "source": [
    "while True:\n",
    "    try:\n",
    "        x = int(input(\"Please enter a number: \"))\n",
    "        print(x)\n",
    "        break\n",
    "        \n",
    "    except ( ValueError, RuntimeError, TypeError, NameError) as err:\n",
    "        print(f\"Oops!...{err}\")\n",
    "        # raise\n"
   ]
  },
  {
   "cell_type": "code",
   "execution_count": null,
   "id": "999d0172",
   "metadata": {},
   "outputs": [],
   "source": []
  }
 ],
 "metadata": {
  "kernelspec": {
   "display_name": "Python 3 (ipykernel)",
   "language": "python",
   "name": "python3"
  },
  "language_info": {
   "codemirror_mode": {
    "name": "ipython",
    "version": 3
   },
   "file_extension": ".py",
   "mimetype": "text/x-python",
   "name": "python",
   "nbconvert_exporter": "python",
   "pygments_lexer": "ipython3",
   "version": "3.10.4"
  }
 },
 "nbformat": 4,
 "nbformat_minor": 5
}
