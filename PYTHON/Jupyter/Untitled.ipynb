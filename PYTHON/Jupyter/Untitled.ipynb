{
 "cells": [
  {
   "cell_type": "code",
   "execution_count": 8,
   "id": "ee5bcd80",
   "metadata": {},
   "outputs": [
    {
     "name": "stdout",
     "output_type": "stream",
     "text": [
      "[[  1   2   4  -1]\n",
      " [  3   2   5   1]\n",
      " [  1   8   3 -77]]\n"
     ]
    }
   ],
   "source": [
    "import numpy as np\n",
    "  \n",
    "np.empty([4, 3],\n",
    "         dtype = np.int32,\n",
    "         order = 'f')\n",
    "a = np.array([[1, 2, 4, -1],\n",
    "              [3, 2, 5, 1],\n",
    "              [1, 8, 3, -77]])\n",
    "print(a)\n"
   ]
  },
  {
   "cell_type": "code",
   "execution_count": 10,
   "id": "ebfb8fc2",
   "metadata": {},
   "outputs": [
    {
     "name": "stdout",
     "output_type": "stream",
     "text": [
      "TensorFlow version: 2.8.0\n"
     ]
    },
    {
     "data": {
      "text/plain": [
       "<function keras.layers.merge.dot(inputs, axes, normalize=False, **kwargs)>"
      ]
     },
     "execution_count": 10,
     "metadata": {},
     "output_type": "execute_result"
    }
   ],
   "source": [
    "from tensorflow.keras import Model\n",
    "from tensorflow.keras.layers import Dense, Flatten, Conv2D\n",
    "import tensorflow as tf\n",
    "print(\"TensorFlow version:\", tf.__version__)\n",
    "tf.keras.layers.dot\n"
   ]
  },
  {
   "cell_type": "code",
   "execution_count": 6,
   "id": "1107ade1",
   "metadata": {},
   "outputs": [
    {
     "name": "stdout",
     "output_type": "stream",
     "text": [
      "     NAME           ADDRESS      CONTACT                COMPANY  \\\n",
      "0  Elijah        London, UK  44555332384              Bloomberg   \n",
      "1  Elisha            Canada  12300444833          Pure-Gold, Ca   \n",
      "2    Mary             China  86747282993  Huoung Medical Center   \n",
      "3    Emma  Germany, Hamburg  46729882939                 Amazon   \n",
      "4   David               USA  12283489304           Newmont Ltd.   \n",
      "\n",
      "             OCCUPATION  \n",
      "0     Software Engineer  \n",
      "1    Executive Director  \n",
      "2  Medical Practitioner  \n",
      "3       Senior Engineer  \n",
      "4      Engineer Manager  \n",
      "...........................................\n",
      "    NAME           ADDRESS      CONTACT       COMPANY        OCCUPATION\n",
      "3   Emma  Germany, Hamburg  46729882939        Amazon   Senior Engineer\n",
      "4  David               USA  12283489304  Newmont Ltd.  Engineer Manager\n"
     ]
    }
   ],
   "source": []
  }
 ],
 "metadata": {
  "kernelspec": {
   "display_name": "Python 3 (ipykernel)",
   "language": "python",
   "name": "python3"
  },
  "language_info": {
   "codemirror_mode": {
    "name": "ipython",
    "version": 3
   },
   "file_extension": ".py",
   "mimetype": "text/x-python",
   "name": "python",
   "nbconvert_exporter": "python",
   "pygments_lexer": "ipython3",
   "version": "3.10.4"
  }
 },
 "nbformat": 4,
 "nbformat_minor": 5
}
