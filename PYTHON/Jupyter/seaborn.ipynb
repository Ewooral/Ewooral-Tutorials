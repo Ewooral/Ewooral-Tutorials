{
 "cells": [
  {
   "cell_type": "code",
   "execution_count": 6,
   "metadata": {},
   "outputs": [],
   "source": [
    "import seaborn as sns\n",
    "sns.get"
   ]
  }
 ],
 "metadata": {
  "interpreter": {
   "hash": "05c8a8c633d4086db68ec7b0d5ad0ea301cda540407eed8d9149fd8c4a0026e0"
  },
  "kernelspec": {
   "display_name": "Python 3.10.4 ('Ewooral-Tutorials-i81cRfln')",
   "language": "python",
   "name": "python3"
  },
  "language_info": {
   "codemirror_mode": {
    "name": "ipython",
    "version": 3
   },
   "file_extension": ".py",
   "mimetype": "text/x-python",
   "name": "python",
   "nbconvert_exporter": "python",
   "pygments_lexer": "ipython3",
   "version": "3.10.4"
  },
  "orig_nbformat": 4
 },
 "nbformat": 4,
 "nbformat_minor": 2
}
