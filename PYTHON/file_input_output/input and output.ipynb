{
 "cells": [
  {
   "cell_type": "markdown",
   "source": [
    "\n",
    "### WRITING TO A FILE\n",
    "`open()`\n",
    "function's purpose is to open a file programmatically, so that we can read information from it\n",
    "as well as write information to it. Its equivalence is opening a file on a pc.\n",
    "open returns a file handle\n",
    "\n",
    "`w` helps us to change the content of a file or write info to a file\n",
    "\n",
    "`write()` method which is a file handle write info to a file\n",
    "\n",
    "`close()` saves and closes the file\n",
    "\n",
    "`a` means to append at the end of a line\n",
    "\n",
    "`with` instead of closing a file with close(), a more pythonic way is to use `with`.\n",
    "   It opens and closes a file\n",
    "\n",
    "`readlines()` reads all lines from a file to the programmer"
   ],
   "metadata": {
    "collapsed": false,
    "pycharm": {
     "name": "#%% md\n"
    }
   }
  },
  {
   "cell_type": "code",
   "execution_count": 8,
   "outputs": [],
   "source": [
    "name = input(\"What's your name\")\n",
    "file = open(\"names.txt\", \"a\")\n",
    "file.write((f\"{name}\\n\"))\n",
    "file.close()"
   ],
   "metadata": {
    "collapsed": false,
    "pycharm": {
     "name": "#%%\n"
    }
   }
  },
  {
   "cell_type": "markdown",
   "source": [
    "### With\n",
    "opens and closes a file. so we don't need to manually type close(). `with` keyword takes care\n",
    "of that for us."
   ],
   "metadata": {
    "collapsed": false,
    "pycharm": {
     "name": "#%% md\n"
    }
   }
  },
  {
   "cell_type": "code",
   "execution_count": 9,
   "outputs": [],
   "source": [
    "name = input(\"What's your name\")\n",
    "with open(\"names.txt\", \"a\") as file:\n",
    "    file.write(f\"{name}\\n\")"
   ],
   "metadata": {
    "collapsed": false,
    "pycharm": {
     "name": "#%%\n"
    }
   }
  },
  {
   "cell_type": "markdown",
   "source": [
    "### READ FROM AN EXISTING FILE"
   ],
   "metadata": {
    "collapsed": false,
    "pycharm": {
     "name": "#%% md\n"
    }
   }
  },
  {
   "cell_type": "code",
   "execution_count": 23,
   "outputs": [
    {
     "name": "stdout",
     "output_type": "stream",
     "text": [
      "Hello, Boahen\n",
      "Hello, Elijah\n",
      "Hello, Owusu\n",
      "Hello, Drako\n",
      "............\n",
      "Hello, Boahen\n",
      "Hello, Elijah\n",
      "Hello, Owusu\n",
      "Hello, Drako\n"
     ]
    }
   ],
   "source": [
    "with open(\"names.txt\", \"r\") as file:\n",
    "    lines = file.readlines()\n",
    "\n",
    "for line in lines:\n",
    "    print(\"Hello,\", line.rstrip())\n",
    "\n",
    "print(\"............\")\n",
    "with open(\"names.txt\", \"r\") as file:\n",
    "    for line in file:\n",
    "        print(\"Hello,\", line.rstrip())"
   ],
   "metadata": {
    "collapsed": false,
    "pycharm": {
     "name": "#%%\n"
    }
   }
  },
  {
   "cell_type": "markdown",
   "source": [],
   "metadata": {
    "collapsed": false,
    "pycharm": {
     "name": "#%% md\n"
    }
   }
  },
  {
   "cell_type": "markdown",
   "source": [
    "If you're opening a file to read it, you don't need to add `r`. That is the implicit default.\n",
    "Now we're reading from file and appending every line in memory(names variable)"
   ],
   "metadata": {
    "collapsed": false,
    "pycharm": {
     "name": "#%% md\n"
    }
   }
  },
  {
   "cell_type": "code",
   "execution_count": 24,
   "outputs": [
    {
     "name": "stdout",
     "output_type": "stream",
     "text": [
      "Hello, Boahen\n",
      "Hello, Drako\n",
      "Hello, Elijah\n",
      "Hello, Owusu\n",
      "............\n",
      "Hiya!  Owusu\n",
      "Hiya!  Elijah\n",
      "Hiya!  Drako\n",
      "Hiya!  Boahen\n"
     ]
    }
   ],
   "source": [
    "names = []\n",
    "with open(\"names.txt\") as file:\n",
    "    for line in file:\n",
    "        names.append(line.rstrip())\n",
    "for name in sorted(names):\n",
    "    print(f\"Hello, {name}\")\n",
    "\n",
    "print(\"............\")\n",
    "# OR, we can sort the file rather than reading to a variable in memory\n",
    "with open(\"names.txt\") as file:\n",
    "    for line in sorted(file, reverse=True):\n",
    "        print(\"Hiya! \", line.rstrip())"
   ],
   "metadata": {
    "collapsed": false,
    "pycharm": {
     "name": "#%%\n"
    }
   }
  }
 ],
 "metadata": {
  "kernelspec": {
   "display_name": "Python 3",
   "language": "python",
   "name": "python3"
  },
  "language_info": {
   "codemirror_mode": {
    "name": "ipython",
    "version": 2
   },
   "file_extension": ".py",
   "mimetype": "text/x-python",
   "name": "python",
   "nbconvert_exporter": "python",
   "pygments_lexer": "ipython2",
   "version": "2.7.6"
  }
 },
 "nbformat": 4,
 "nbformat_minor": 0
}