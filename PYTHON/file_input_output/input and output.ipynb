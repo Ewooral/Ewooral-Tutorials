{
 "cells": [
  {
   "cell_type": "markdown",
   "source": [
    "\n",
    "### WRITING TO A FILE\n",
    "`open()`\n",
    "function's purpose is to open a file programmatically, so that we can read information from it\n",
    "as well as write information to it. Its equivalence is opening a file on a pc.\n",
    "open returns a file handle\n",
    "\n",
    "`w` helps us to change the content of a file or write info to a file\n",
    "\n",
    "`write()` method which is a file handle write info to a file\n",
    "\n",
    "`close()` saves and closes the file\n",
    "\n",
    "`a` means to append at the end of a line\n",
    "\n",
    "`with` instead of closing a file with close(), a more pythonic way is to use `with`.\n",
    "   It opens and closes a file\n",
    "\n",
    "`readlines()` reads all lines from a file to the programmer"
   ],
   "metadata": {
    "collapsed": false,
    "pycharm": {
     "name": "#%% md\n"
    }
   }
  },
  {
   "cell_type": "code",
   "execution_count": 106,
   "outputs": [],
   "source": [
    "name = input(\"What's your name\")\n",
    "file = open(\"names.txt\", \"a\")\n",
    "file.write((f\"{name}\\n\"))\n",
    "file.close()"
   ],
   "metadata": {
    "collapsed": false,
    "pycharm": {
     "name": "#%%\n"
    }
   }
  },
  {
   "cell_type": "markdown",
   "source": [
    "### With\n",
    "opens and closes a file. so we don't need to manually type close(). `with` keyword takes care\n",
    "of that for us."
   ],
   "metadata": {
    "collapsed": false,
    "pycharm": {
     "name": "#%% md\n"
    }
   }
  },
  {
   "cell_type": "code",
   "execution_count": 107,
   "outputs": [],
   "source": [
    "name = input(\"What's your name\")\n",
    "with open(\"names.txt\", \"a\") as file:\n",
    "    file.write(f\"{name}\\n\")"
   ],
   "metadata": {
    "collapsed": false,
    "pycharm": {
     "name": "#%%\n"
    }
   }
  },
  {
   "cell_type": "markdown",
   "source": [
    "### READ FROM AN EXISTING FILE"
   ],
   "metadata": {
    "collapsed": false,
    "pycharm": {
     "name": "#%% md\n"
    }
   }
  },
  {
   "cell_type": "code",
   "execution_count": 108,
   "outputs": [
    {
     "name": "stdout",
     "output_type": "stream",
     "text": [
      "Hello, Boahen\n",
      "Hello, Elijah\n",
      "Hello, Owusu\n",
      "Hello, Drako\n",
      "Hello, ELIJAH\n",
      "Hello, ELIJAH\n",
      "Hello, Elijah\n",
      "Hello, Boahen\n",
      "............\n",
      "Hello, Boahen\n",
      "Hello, Elijah\n",
      "Hello, Owusu\n",
      "Hello, Drako\n",
      "Hello, ELIJAH\n",
      "Hello, ELIJAH\n",
      "Hello, Elijah\n",
      "Hello, Boahen\n"
     ]
    }
   ],
   "source": [
    "with open(\"names.txt\", \"r\") as file:\n",
    "    lines = file.readlines()\n",
    "\n",
    "for line in lines:\n",
    "    print(\"Hello,\", line.rstrip())\n",
    "\n",
    "print(\"............\")\n",
    "with open(\"names.txt\", \"r\") as file:\n",
    "    for line in file:\n",
    "        print(\"Hello,\", line.rstrip())"
   ],
   "metadata": {
    "collapsed": false,
    "pycharm": {
     "name": "#%%\n"
    }
   }
  },
  {
   "cell_type": "markdown",
   "source": [],
   "metadata": {
    "collapsed": false,
    "pycharm": {
     "name": "#%% md\n"
    }
   }
  },
  {
   "cell_type": "markdown",
   "source": [
    "### Reading to a variable in Memory Rather than a File\n",
    "If you're opening a file to read it, you don't need to add `r`. That is the implicit default.\n",
    "Now we're reading from file and appending every line in memory(names variable)"
   ],
   "metadata": {
    "collapsed": false,
    "pycharm": {
     "name": "#%% md\n"
    }
   }
  },
  {
   "cell_type": "markdown",
   "source": [],
   "metadata": {
    "collapsed": false,
    "pycharm": {
     "name": "#%% md\n"
    }
   }
  },
  {
   "cell_type": "code",
   "execution_count": 109,
   "outputs": [
    {
     "name": "stdout",
     "output_type": "stream",
     "text": [
      "Hello, Boahen\n",
      "Hello, Boahen\n",
      "Hello, Drako\n",
      "Hello, ELIJAH\n",
      "Hello, ELIJAH\n",
      "Hello, Elijah\n",
      "Hello, Elijah\n",
      "Hello, Owusu\n",
      "............\n",
      "Hiya!  Owusu\n",
      "Hiya!  Elijah\n",
      "Hiya!  Elijah\n",
      "Hiya!  ELIJAH\n",
      "Hiya!  ELIJAH\n",
      "Hiya!  Drako\n",
      "Hiya!  Boahen\n",
      "Hiya!  Boahen\n",
      ".............\n",
      "['Chai! Boahen', 'Chai! Elijah', 'Chai! Owusu', 'Chai! Drako', 'Chai! ELIJAH', 'Chai! ELIJAH', 'Chai! Elijah', 'Chai! Boahen']\n"
     ]
    }
   ],
   "source": [
    "names = []\n",
    "with open(\"names.txt\") as file:\n",
    "    for line in file:\n",
    "        names.append(line.rstrip())\n",
    "for name in sorted(names):\n",
    "    print(f\"Hello, {name}\")\n",
    "\n",
    "print(\"............\")\n",
    "# OR, we can sort the file rather than reading to a variable in memory\n",
    "with open(\"names.txt\") as file:\n",
    "    for line in sorted(file, reverse=True):\n",
    "        print(\"Hiya! \", line.rstrip())\n",
    "\n",
    "\n",
    "print(\".............\")\n",
    "# one-liner\n",
    "lines = [f\"Chai! {x.rstrip()}\" for x in open(\"names.txt\")]\n",
    "print(lines)"
   ],
   "metadata": {
    "collapsed": false,
    "pycharm": {
     "name": "#%%\n"
    }
   }
  },
  {
   "cell_type": "markdown",
   "source": [],
   "metadata": {
    "collapsed": false,
    "pycharm": {
     "name": "#%% md\n"
    }
   }
  },
  {
   "cell_type": "markdown",
   "source": [
    "# create a csv file and add information"
   ],
   "metadata": {
    "collapsed": false,
    "pycharm": {
     "name": "#%% md\n"
    }
   }
  },
  {
   "cell_type": "code",
   "execution_count": null,
   "outputs": [],
   "source": [
    "# create a csv(comma separated values) file and add info\n",
    "with open(\"names.csv\", \"w\") as csvFile:\n",
    "    csvFile.write(\"name,house\")"
   ],
   "metadata": {
    "collapsed": false,
    "pycharm": {
     "name": "#%%\n"
    }
   }
  },
  {
   "cell_type": "markdown",
   "source": [],
   "metadata": {
    "collapsed": false,
    "pycharm": {
     "name": "#%% md\n"
    }
   }
  },
  {
   "cell_type": "markdown",
   "source": [
    "# append info in the file"
   ],
   "metadata": {
    "collapsed": false,
    "pycharm": {
     "name": "#%% md\n"
    }
   }
  },
  {
   "cell_type": "code",
   "execution_count": 124,
   "outputs": [],
   "source": [
    "with open(\"names.csv\", \"a\") as csvFile:\n",
    "    csvFile.write(\"\\nElijah,Google\"\n",
    "                  \"\\nDonkor,Amazon\"\n",
    "                  \"\\nMarthias,Bloomberg\"\n",
    "                  \"\\nKudjo,Oracle\")"
   ],
   "metadata": {
    "collapsed": false,
    "pycharm": {
     "name": "#%%\n"
    }
   }
  },
  {
   "cell_type": "markdown",
   "source": [],
   "metadata": {
    "collapsed": false,
    "pycharm": {
     "name": "#%% md\n"
    }
   }
  },
  {
   "cell_type": "markdown",
   "source": [
    "# Read From a File and Output it"
   ],
   "metadata": {
    "collapsed": false,
    "pycharm": {
     "name": "#%% md\n"
    }
   }
  },
  {
   "cell_type": "code",
   "execution_count": 125,
   "outputs": [
    {
     "name": "stdout",
     "output_type": "stream",
     "text": [
      "Donkor works at Amazon\n",
      "Elijah works at Google\n",
      "Kudjo works at Oracle\n",
      "Marthias works at Bloomberg\n",
      "name works at house\n"
     ]
    }
   ],
   "source": [
    "\n",
    "\n",
    "# make the file readable and print out its info\n",
    "students = []\n",
    "with open(\"names.csv\") as csvFile:\n",
    "    for line in csvFile:\n",
    "        name, house = line.rstrip().split(\",\")\n",
    "        student = {\"name\": name, \"house\": house}\n",
    "        students.append(student)\n",
    "\n",
    "# sorted's key uses this function to sort the list of dictionaries\n",
    "def get_name(student):\n",
    "    return student[\"name\"]\n",
    "\n",
    "# instead of feeding the above function to key, we could use anonymous function(lambda)\n",
    "for student in sorted(students, key=lambda student: student['name'], reverse=False):\n",
    "    print(f\"{student['name']} works at {student['house']}\")\n"
   ],
   "metadata": {
    "collapsed": false,
    "pycharm": {
     "name": "#%%\n"
    }
   }
  },
  {
   "cell_type": "markdown",
   "source": [
    "\n"
   ],
   "metadata": {
    "collapsed": false,
    "pycharm": {
     "name": "#%% md\n"
    }
   }
  },
  {
   "cell_type": "markdown",
   "source": [
    "# USING CSV MODULE"
   ],
   "metadata": {
    "collapsed": false,
    "pycharm": {
     "name": "#%% md\n"
    }
   }
  },
  {
   "cell_type": "code",
   "execution_count": null,
   "outputs": [],
   "source": [
    "import csv\n",
    "\n",
    "studentss = []\n",
    "with open(\"names.csv\") as myFile:\n",
    "    # reader =  csv.reader(myFile)\n",
    "    reader =  csv.DictReader(myFile)\n",
    "    for row in reader:\n",
    "        studentss.append({\"name\": row[\"name\"], \"house\": row[\"house\"]})\n",
    "\n",
    "for student in sorted(studentss, key=lambda student: student['name'], reverse=False):\n",
    "    print(f\"{student['name']} works at {student['house']}\")\n"
   ],
   "metadata": {
    "collapsed": false,
    "pycharm": {
     "name": "#%%\n"
    }
   }
  },
  {
   "cell_type": "markdown",
   "source": [],
   "metadata": {
    "collapsed": false,
    "pycharm": {
     "name": "#%% md\n"
    }
   }
  },
  {
   "cell_type": "markdown",
   "source": [],
   "metadata": {
    "collapsed": false,
    "pycharm": {
     "name": "#%% md\n"
    }
   }
  },
  {
   "cell_type": "markdown",
   "source": [
    "# Google Interview\n",
    "Given a file that keeps track of a user's chatting records,\n",
    "return a username and the frequency of words each sends as a message\n",
    "\n",
    "`Example 1:`\n",
    "Input:    '''\n",
    "          [10:30] <John> Hello there!\n",
    "          Wed 05/31 @ server01 <Martha> hello! there!\n",
    "          [10:31] <John> how are you?\n",
    "          [02:31] <Mercy> Hi, my name is Mercy, and I am looking for a job at Google!\n",
    "          Sat Feb/23 @ server3001 <SamuelFromGoogle> Hi, Kindly visit our website and apply!\n",
    "          [02:31] <Mercy> Thank You Sir!\n",
    "         '''\n",
    "\n",
    "Output: {'John': 5, 'Martha': 2, 'Mercy': 17, 'SamuelFromGoogle': 7}\n"
   ],
   "metadata": {
    "collapsed": false,
    "pycharm": {
     "name": "#%% md\n"
    }
   }
  },
  {
   "cell_type": "code",
   "execution_count": 211,
   "outputs": [
    {
     "name": "stdout",
     "output_type": "stream",
     "text": [
      "John : 5\n",
      "Martha : 2\n",
      "Mercy : 17\n",
      "SamuelFromGoogle : 7\n",
      "................\n",
      "John : 5\n",
      "Martha : 2\n",
      "Mercy : 17\n",
      "SamuelFromGoogle : 7\n"
     ]
    }
   ],
   "source": [
    "\n",
    "def readFile(filename):\n",
    "    # use generator to avoid loading the entire file in memory\n",
    "    with open(filename) as file:\n",
    "        for i in file:\n",
    "            yield i\n",
    "\n",
    "# Approach 2\n",
    "def frequencyOfWords(textFile):\n",
    "        user = {}\n",
    "        for line in readFile(textFile):\n",
    "            new_line = line.split(\" \")\n",
    "            print(new_line)\n",
    "            count = 0\n",
    "            for i in range(len(new_line)):\n",
    "                word = new_line[i]\n",
    "                if word[0] == \"<\" and word[-1] == \">\":\n",
    "                    user_name = word[1:len(word) - 1]\n",
    "                    stripped_word_sub = new_line[i + 1:]\n",
    "                    for _ in stripped_word_sub:\n",
    "                        count += 1\n",
    "                        if user_name in user:\n",
    "                            user[user_name] += 1\n",
    "                        else:\n",
    "                            user[user_name] = count\n",
    "        for u, c in enumerate(user):\n",
    "            print(f\"{c} : {user.get(c)}\")\n",
    "\n",
    "\n",
    "# Approach 2\n",
    "# def count_user_words(textFile):\n",
    "#         names = {}\n",
    "#         for line in readFile(textFile):\n",
    "#             new_line = line.split(\">\")\n",
    "#             user_name = [left for left in new_line[0].split(\"<\")][-1]\n",
    "#             user_message = \"\".join(new_line[1:]).split()\n",
    "            if user_name not in names:\n",
    "                names[user_name] = len(user_message)\n",
    "            else:\n",
    "                names[user_name] += len(user_message)\n",
    "\n",
    "        for index, user in enumerate(names):\n",
    "            if names.get(user) == 0:\n",
    "                continue\n",
    "            else:\n",
    "                print(f\"{user} : {names.get(user)}\")\n",
    "\n",
    "\n",
    "\n",
    "def main():\n",
    "    frequencyOfWords(\"names.txt\")\n",
    "    print(\"................\")\n",
    "    count_user_words(\"names.txt\")\n",
    "\n",
    "if __name__ == '__main__':\n",
    "    main()"
   ],
   "metadata": {
    "collapsed": false,
    "pycharm": {
     "name": "#%%\n"
    }
   }
  },
  {
   "cell_type": "markdown",
   "source": [],
   "metadata": {
    "collapsed": false,
    "pycharm": {
     "name": "#%% md\n"
    }
   }
  }
 ],
 "metadata": {
  "kernelspec": {
   "display_name": "Python 3",
   "language": "python",
   "name": "python3"
  },
  "language_info": {
   "codemirror_mode": {
    "name": "ipython",
    "version": 2
   },
   "file_extension": ".py",
   "mimetype": "text/x-python",
   "name": "python",
   "nbconvert_exporter": "python",
   "pygments_lexer": "ipython2",
   "version": "2.7.6"
  }
 },
 "nbformat": 4,
 "nbformat_minor": 0
}