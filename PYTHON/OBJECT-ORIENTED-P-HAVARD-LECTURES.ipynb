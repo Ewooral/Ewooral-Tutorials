{
 "cells": [
  {
   "cell_type": "markdown",
   "source": [
    "# FUNCTIONAL PROGRAMMING"
   ],
   "metadata": {
    "collapsed": false,
    "pycharm": {
     "name": "#%% md\n"
    }
   }
  },
  {
   "cell_type": "code",
   "execution_count": 56,
   "outputs": [
    {
     "name": "stdout",
     "output_type": "stream",
     "text": [
      "aa from bb is 3 years old!\n",
      "aa from e is 2 years old!\n",
      "gg from rr is 4 years old!\n"
     ]
    }
   ],
   "source": [
    "def main():\n",
    "    \"\"\"\n",
    "    We can use either TUPLE, LIST, DICTIONARY OR UNPACKING method\n",
    "    to return more than one item from a function\n",
    "    \"\"\"\n",
    "\n",
    "    # unpacking\n",
    "    name, house, age = get_student()\n",
    "    print(f\"{name} from {house} is {age} years old!\")\n",
    "\n",
    "    # tuple\n",
    "    student = get_student()\n",
    "    print(f\"{student[0]} from {student[1]} is {student[2]} years old!\")\n",
    "\n",
    "    # dictionary\n",
    "    student1 = get_studentI()\n",
    "    print(f\"{student1['name']} from {student1['house']} is {student1['age']} years old!\")\n",
    "\n",
    "\n",
    "def get_student():\n",
    "    name = input(\"Name: \")\n",
    "    house = input(\"House: \")\n",
    "    age = int(input(\"age: \"))\n",
    "    return name, house, age\n",
    "\n",
    "def get_studentI():\n",
    "    student = {\n",
    "        \"name\": input(\"Name: \"),\n",
    "        \"house\": input(\"house: \"),\n",
    "        \"age\": input(\"age: \")\n",
    "          }\n",
    "    return student\n",
    "\n",
    "\n",
    "if __name__ == \"__main__\":\n",
    "    main()\n",
    "\n"
   ],
   "metadata": {
    "collapsed": false,
    "pycharm": {
     "name": "#%%\n"
    }
   }
  },
  {
   "cell_type": "markdown",
   "source": [
    "\n",
    "\n",
    "\n",
    "\n"
   ],
   "metadata": {
    "collapsed": false,
    "pycharm": {
     "name": "#%% md\n"
    }
   }
  },
  {
   "cell_type": "markdown",
   "source": [
    "# OBJECT ORIENTED PROGRAMMING"
   ],
   "metadata": {
    "collapsed": false,
    "pycharm": {
     "name": "#%% md\n"
    }
   }
  },
  {
   "cell_type": "code",
   "execution_count": 58,
   "outputs": [
    {
     "ename": "ValueError",
     "evalue": "House is not available",
     "output_type": "error",
     "traceback": [
      "\u001B[1;31m---------------------------------------------------------------------------\u001B[0m",
      "\u001B[1;31mValueError\u001B[0m                                Traceback (most recent call last)",
      "Input \u001B[1;32mIn [58]\u001B[0m, in \u001B[0;36m<cell line: 70>\u001B[1;34m()\u001B[0m\n\u001B[0;32m     65\u001B[0m     \u001B[38;5;28;01mreturn\u001B[39;00m Student(name, house, charm) \u001B[38;5;66;03m# creating an instance of the class Student\u001B[39;00m\n\u001B[0;32m     70\u001B[0m \u001B[38;5;28;01mif\u001B[39;00m \u001B[38;5;18m__name__\u001B[39m \u001B[38;5;241m==\u001B[39m \u001B[38;5;124m\"\u001B[39m\u001B[38;5;124m__main__\u001B[39m\u001B[38;5;124m\"\u001B[39m:\n\u001B[1;32m---> 71\u001B[0m     \u001B[43mmain\u001B[49m\u001B[43m(\u001B[49m\u001B[43m)\u001B[49m\n",
      "Input \u001B[1;32mIn [58]\u001B[0m, in \u001B[0;36mmain\u001B[1;34m()\u001B[0m\n\u001B[0;32m     52\u001B[0m student \u001B[38;5;241m=\u001B[39m get_studentII()\n\u001B[0;32m     54\u001B[0m \u001B[38;5;66;03m# overwriting the instance variable, name\u001B[39;00m\n\u001B[1;32m---> 55\u001B[0m student\u001B[38;5;241m.\u001B[39mhouse \u001B[38;5;241m=\u001B[39m \u001B[38;5;124m\"\u001B[39m\u001B[38;5;124mPentecost, Ashaiman Mission House\u001B[39m\u001B[38;5;124m\"\u001B[39m\n\u001B[0;32m     56\u001B[0m \u001B[38;5;28mprint\u001B[39m(student)\n\u001B[0;32m     57\u001B[0m \u001B[38;5;28mprint\u001B[39m(student\u001B[38;5;241m.\u001B[39mcharm())\n",
      "Input \u001B[1;32mIn [58]\u001B[0m, in \u001B[0;36mStudent.house\u001B[1;34m(self, house)\u001B[0m\n\u001B[0;32m     45\u001B[0m \u001B[38;5;129m@house\u001B[39m\u001B[38;5;241m.\u001B[39msetter\n\u001B[0;32m     46\u001B[0m \u001B[38;5;28;01mdef\u001B[39;00m \u001B[38;5;21mhouse\u001B[39m(\u001B[38;5;28mself\u001B[39m, house):\n\u001B[0;32m     47\u001B[0m     \u001B[38;5;28;01mif\u001B[39;00m house \u001B[38;5;129;01mnot\u001B[39;00m \u001B[38;5;129;01min\u001B[39;00m [\u001B[38;5;124m\"\u001B[39m\u001B[38;5;124mGryffindor\u001B[39m\u001B[38;5;124m\"\u001B[39m, \u001B[38;5;124m\"\u001B[39m\u001B[38;5;124m \u001B[39m\u001B[38;5;124m\"\u001B[39m,  \u001B[38;5;124m\"\u001B[39m\u001B[38;5;124mHufflepuff\u001B[39m\u001B[38;5;124m\"\u001B[39m, \u001B[38;5;124m\"\u001B[39m\u001B[38;5;124mRavenclaw\u001B[39m\u001B[38;5;124m\"\u001B[39m, \u001B[38;5;124m\"\u001B[39m\u001B[38;5;124mSlytherin\u001B[39m\u001B[38;5;124m\"\u001B[39m]:\n\u001B[1;32m---> 48\u001B[0m         \u001B[38;5;28;01mraise\u001B[39;00m \u001B[38;5;167;01mValueError\u001B[39;00m(\u001B[38;5;124m\"\u001B[39m\u001B[38;5;124mHouse is not available\u001B[39m\u001B[38;5;124m\"\u001B[39m)\n\u001B[0;32m     49\u001B[0m     \u001B[38;5;28mself\u001B[39m\u001B[38;5;241m.\u001B[39m_house \u001B[38;5;241m=\u001B[39m house\n",
      "\u001B[1;31mValueError\u001B[0m: House is not available"
     ]
    }
   ],
   "source": [
    "class Student:\n",
    "    def __init__(self, name, house, patronus):\n",
    "\n",
    "        # catch errors using raise keyword\n",
    "        if not name:\n",
    "            raise ValueError(\"Missing name\")\n",
    "\n",
    "        # instance variables\n",
    "        self.name = name\n",
    "        self.house = house\n",
    "        self.patronus = patronus\n",
    "\n",
    "    # dunder str method\n",
    "    \"\"\"\n",
    "    the dunder str method prevents object which is the instance\n",
    "    of the class, Student, from printing the physical location of\n",
    "    the class <__main__.Student object at 0x000001F004835360>.\n",
    "    It prints a string which is more readable to humans\n",
    "    \"\"\"\n",
    "    def __str__(self):\n",
    "        return f\"{self.name} from {self.house} called a {self.patronus} charm\"\n",
    "\n",
    "    def charm(self):\n",
    "        match self.name:\n",
    "            case \"Stag\":\n",
    "                return \"Stag\"\n",
    "            case \"Otter\":\n",
    "                return \"Otter\"\n",
    "            case _:\n",
    "                return None\n",
    "\n",
    "    # encapsulation\n",
    "    \"\"\"\n",
    "    if we do not want to make an instance variable accessible\n",
    "    to the main code, we can employ the getter and setter method\n",
    "    by decorating a function using the @property decorator\n",
    "    \"\"\"\n",
    "\n",
    "    # getter\n",
    "    @property\n",
    "    def house(self):\n",
    "        return self._house\n",
    "\n",
    "    # setter\n",
    "    @house.setter\n",
    "    def house(self, house):\n",
    "        if house not in [\"Gryffindor\", \" \",  \"Hufflepuff\", \"Ravenclaw\", \"Slytherin\"]:\n",
    "            raise ValueError(\"House is not available\")\n",
    "        self._house = house\n",
    "\n",
    "def main():\n",
    "    student = get_studentII()\n",
    "\n",
    "    # overwriting the instance variable, name\n",
    "    student.house = \"Pentecost, Ashaiman Mission House\" # House is not available\n",
    "    print(student)\n",
    "    print(student.charm())\n",
    "\n",
    "    # print(f\"{student.name} is {student.age} years old!\")\n",
    "\n",
    "def get_studentII():\n",
    "    name = input(\"Name: \")\n",
    "    house = input(\"House: \")\n",
    "    charm = input(\"Charm: \")\n",
    "    return Student(name, house, charm) # creating an instance of the class Student\n",
    "\n",
    "\n",
    "\n",
    "\n",
    "if __name__ == \"__main__\":\n",
    "    main()"
   ],
   "metadata": {
    "collapsed": false,
    "pycharm": {
     "name": "#%%\n"
    }
   }
  }
 ],
 "metadata": {
  "kernelspec": {
   "display_name": "Python 3",
   "language": "python",
   "name": "python3"
  },
  "language_info": {
   "codemirror_mode": {
    "name": "ipython",
    "version": 2
   },
   "file_extension": ".py",
   "mimetype": "text/x-python",
   "name": "python",
   "nbconvert_exporter": "python",
   "pygments_lexer": "ipython2",
   "version": "2.7.6"
  }
 },
 "nbformat": 4,
 "nbformat_minor": 0
}