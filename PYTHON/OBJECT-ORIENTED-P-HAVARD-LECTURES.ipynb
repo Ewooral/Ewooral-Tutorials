{
 "cells": [
  {
   "cell_type": "markdown",
   "source": [
    "# FUNCTIONAL PROGRAMMING"
   ],
   "metadata": {
    "collapsed": false,
    "pycharm": {
     "name": "#%% md\n"
    }
   }
  },
  {
   "cell_type": "code",
   "execution_count": 1,
   "outputs": [
    {
     "ename": "ValueError",
     "evalue": "invalid literal for int() with base 10: ''",
     "output_type": "error",
     "traceback": [
      "\u001B[1;31m---------------------------------------------------------------------------\u001B[0m",
      "\u001B[1;31mValueError\u001B[0m                                Traceback (most recent call last)",
      "Input \u001B[1;32mIn [1]\u001B[0m, in \u001B[0;36m<cell line: 35>\u001B[1;34m()\u001B[0m\n\u001B[0;32m     32\u001B[0m     \u001B[38;5;28;01mreturn\u001B[39;00m student\n\u001B[0;32m     35\u001B[0m \u001B[38;5;28;01mif\u001B[39;00m \u001B[38;5;18m__name__\u001B[39m \u001B[38;5;241m==\u001B[39m \u001B[38;5;124m\"\u001B[39m\u001B[38;5;124m__main__\u001B[39m\u001B[38;5;124m\"\u001B[39m:\n\u001B[1;32m---> 36\u001B[0m     \u001B[43mmain\u001B[49m\u001B[43m(\u001B[49m\u001B[43m)\u001B[49m\n",
      "Input \u001B[1;32mIn [1]\u001B[0m, in \u001B[0;36mmain\u001B[1;34m()\u001B[0m\n\u001B[0;32m      2\u001B[0m \u001B[38;5;124;03m\"\"\"\u001B[39;00m\n\u001B[0;32m      3\u001B[0m \u001B[38;5;124;03mWe can use either TUPLE, LIST, DICTIONARY OR UNPACKING method\u001B[39;00m\n\u001B[0;32m      4\u001B[0m \u001B[38;5;124;03mto return more than one item from a function\u001B[39;00m\n\u001B[0;32m      5\u001B[0m \u001B[38;5;124;03m\"\"\"\u001B[39;00m\n\u001B[0;32m      7\u001B[0m \u001B[38;5;66;03m# unpacking\u001B[39;00m\n\u001B[1;32m----> 8\u001B[0m name, house, age \u001B[38;5;241m=\u001B[39m \u001B[43mget_student\u001B[49m\u001B[43m(\u001B[49m\u001B[43m)\u001B[49m\n\u001B[0;32m      9\u001B[0m \u001B[38;5;28mprint\u001B[39m(\u001B[38;5;124mf\u001B[39m\u001B[38;5;124m\"\u001B[39m\u001B[38;5;132;01m{\u001B[39;00mname\u001B[38;5;132;01m}\u001B[39;00m\u001B[38;5;124m from \u001B[39m\u001B[38;5;132;01m{\u001B[39;00mhouse\u001B[38;5;132;01m}\u001B[39;00m\u001B[38;5;124m is \u001B[39m\u001B[38;5;132;01m{\u001B[39;00mage\u001B[38;5;132;01m}\u001B[39;00m\u001B[38;5;124m years old!\u001B[39m\u001B[38;5;124m\"\u001B[39m)\n\u001B[0;32m     11\u001B[0m \u001B[38;5;66;03m# tuple\u001B[39;00m\n",
      "Input \u001B[1;32mIn [1]\u001B[0m, in \u001B[0;36mget_student\u001B[1;34m()\u001B[0m\n\u001B[0;32m     21\u001B[0m name \u001B[38;5;241m=\u001B[39m \u001B[38;5;28minput\u001B[39m(\u001B[38;5;124m\"\u001B[39m\u001B[38;5;124mName: \u001B[39m\u001B[38;5;124m\"\u001B[39m)\n\u001B[0;32m     22\u001B[0m house \u001B[38;5;241m=\u001B[39m \u001B[38;5;28minput\u001B[39m(\u001B[38;5;124m\"\u001B[39m\u001B[38;5;124mHouse: \u001B[39m\u001B[38;5;124m\"\u001B[39m)\n\u001B[1;32m---> 23\u001B[0m age \u001B[38;5;241m=\u001B[39m \u001B[38;5;28;43mint\u001B[39;49m\u001B[43m(\u001B[49m\u001B[38;5;28;43minput\u001B[39;49m\u001B[43m(\u001B[49m\u001B[38;5;124;43m\"\u001B[39;49m\u001B[38;5;124;43mage: \u001B[39;49m\u001B[38;5;124;43m\"\u001B[39;49m\u001B[43m)\u001B[49m\u001B[43m)\u001B[49m\n\u001B[0;32m     24\u001B[0m \u001B[38;5;28;01mreturn\u001B[39;00m name, house, age\n",
      "\u001B[1;31mValueError\u001B[0m: invalid literal for int() with base 10: ''"
     ]
    }
   ],
   "source": [
    "import random\n",
    "\n",
    "\n",
    "def main():\n",
    "    \"\"\"\n",
    "    We can use either TUPLE, LIST, DICTIONARY OR UNPACKING method\n",
    "    to return more than one item from a function\n",
    "    \"\"\"\n",
    "\n",
    "    # unpacking\n",
    "    name, house, age = get_student()\n",
    "    print(f\"{name} from {house} is {age} years old!\")\n",
    "\n",
    "    # tuple\n",
    "    student = get_student()\n",
    "    print(f\"{student[0]} from {student[1]} is {student[2]} years old!\")\n",
    "\n",
    "    # dictionary\n",
    "    student1 = get_studentI()\n",
    "    print(f\"{student1['name']} from {student1['house']} is {student1['age']} years old!\")\n",
    "\n",
    "\n",
    "def get_student():\n",
    "    name = input(\"Name: \")\n",
    "    house = input(\"House: \")\n",
    "    age = int(input(\"age: \"))\n",
    "    return name, house, age\n",
    "\n",
    "def get_studentI():\n",
    "    student = {\n",
    "        \"name\": input(\"Name: \"),\n",
    "        \"house\": input(\"house: \"),\n",
    "        \"age\": input(\"age: \")\n",
    "          }\n",
    "    return student\n",
    "\n",
    "\n",
    "if __name__ == \"__main__\":\n",
    "    main()\n",
    "\n"
   ],
   "metadata": {
    "collapsed": false,
    "pycharm": {
     "name": "#%%\n"
    }
   }
  },
  {
   "cell_type": "markdown",
   "source": [
    "\n",
    "\n",
    "\n",
    "\n"
   ],
   "metadata": {
    "collapsed": false,
    "pycharm": {
     "name": "#%% md\n"
    }
   }
  },
  {
   "cell_type": "markdown",
   "source": [
    "# OBJECT ORIENTED PROGRAMMING"
   ],
   "metadata": {
    "collapsed": false,
    "pycharm": {
     "name": "#%% md\n"
    }
   }
  },
  {
   "cell_type": "code",
   "execution_count": 24,
   "outputs": [
    {
     "name": "stdout",
     "output_type": "stream",
     "text": [
      "Elijah from Gryffindor called a Gudah charm\n",
      "None\n",
      "Gryffindor\n",
      "100%\n"
     ]
    }
   ],
   "source": [
    "class Student:\n",
    "    # class variable\n",
    "    grade = f\"{89}%\"\n",
    "\n",
    "    # object initializer\n",
    "    def __init__(self, name, house, patronus):\n",
    "\n",
    "        # catch errors using raise keyword\n",
    "        if not name:\n",
    "            raise ValueError(\"Missing name\")\n",
    "\n",
    "        # instance variables\n",
    "        self.name = name\n",
    "        self.house = house\n",
    "        self.patronus = patronus\n",
    "\n",
    "    # dunder str method\n",
    "    \"\"\"\n",
    "    the dunder str method prevents object which is the instance\n",
    "    of the class, Student, from printing the physical location of\n",
    "    the class <__main__.Student object at 0x000001F004835360>.\n",
    "    It prints a string which is more readable to humans\n",
    "    \"\"\"\n",
    "    def __str__(self):\n",
    "        return f\"{self.name} from {self.house} called a {self.patronus} charm\"\n",
    "\n",
    "    def charm(self):\n",
    "        match self.name:\n",
    "            case \"Stag\":\n",
    "                return \"Stag\"\n",
    "            case \"Otter\":\n",
    "                return \"Otter\"\n",
    "            case _:\n",
    "                return None\n",
    "\n",
    "    # encapsulation\n",
    "    \"\"\"\n",
    "    if we do not want to make an instance variable accessible\n",
    "    to the main code, we can employ the getter and setter methods\n",
    "    by decorating a function using the @property decorator\n",
    "    \"\"\"\n",
    "\n",
    "    \"\"\"\n",
    "    instant variable names and method names must be distinct from each other\n",
    "    fix this by adding underscore(_) at the beginning of the instant variable name\n",
    "    self._name\n",
    "    \"\"\"\n",
    "\n",
    "    # Getter\n",
    "    @property\n",
    "    def house(self):\n",
    "        return self._house\n",
    "\n",
    "    # Setter\n",
    "    @house.setter\n",
    "    def house(self, house):\n",
    "        if house not in [\"Gryffindor\", \"Mission House\",  \"Hufflepuff\", \"Ravenclaw\", \"Slytherin\"]:\n",
    "            raise ValueError(\"House is not available\")\n",
    "        self._house = house\n",
    "\n",
    "def main():\n",
    "    student = get_studentII()\n",
    "\n",
    "    # overwriting the instance variable name will warrant an Error, House is not available\n",
    "    # student.house = \"Pentecost, Ashaiman Mission House\"\n",
    "    print(student)\n",
    "    print(student.charm())\n",
    "    print(student.house)\n",
    "    student.grade = f\"{100}%\"\n",
    "    print(student.grade)\n",
    "\n",
    "    # print(f\"{student.name} is {student.age} years old!\")\n",
    "\n",
    "def get_studentII():\n",
    "    # name = input(\"Name: \")\n",
    "    # house = input(\"House: \")\n",
    "    # charm = input(\"Charm: \")\n",
    "\n",
    "    # creating an instance of the class Student\n",
    "    return Student(\"Elijah\", \"Gryffindor\", \"Gudah\")\n",
    "\n",
    "\n",
    "\n",
    "if __name__ == \"__main__\":\n",
    "    main()"
   ],
   "metadata": {
    "collapsed": false,
    "pycharm": {
     "name": "#%%\n"
    }
   }
  },
  {
   "cell_type": "code",
   "execution_count": 19,
   "outputs": [
    {
     "name": "stdout",
     "output_type": "stream",
     "text": [
      "Access Granted against username: steve and password: 12345\n",
      "Invalid Credentials!\n"
     ]
    },
    {
     "ename": "AttributeError",
     "evalue": "'User' object has no attribute '__password'",
     "output_type": "error",
     "traceback": [
      "\u001B[1;31m---------------------------------------------------------------------------\u001B[0m",
      "\u001B[1;31mAttributeError\u001B[0m                            Traceback (most recent call last)",
      "Input \u001B[1;32mIn [19]\u001B[0m, in \u001B[0;36m<cell line: 33>\u001B[1;34m()\u001B[0m\n\u001B[0;32m     30\u001B[0m     \u001B[38;5;28;01mreturn\u001B[39;00m Steve\n\u001B[0;32m     33\u001B[0m \u001B[38;5;28;01mif\u001B[39;00m \u001B[38;5;18m__name__\u001B[39m \u001B[38;5;241m==\u001B[39m \u001B[38;5;124m'\u001B[39m\u001B[38;5;124m__main__\u001B[39m\u001B[38;5;124m'\u001B[39m:\n\u001B[1;32m---> 34\u001B[0m     \u001B[43mmain\u001B[49m\u001B[43m(\u001B[49m\u001B[43m)\u001B[49m\n",
      "Input \u001B[1;32mIn [19]\u001B[0m, in \u001B[0;36mmain\u001B[1;34m()\u001B[0m\n\u001B[0;32m     22\u001B[0m \u001B[38;5;66;03m# does not grant access since the credentials are invalid\u001B[39;00m\n\u001B[0;32m     23\u001B[0m Steve\u001B[38;5;241m.\u001B[39mlogin(\u001B[38;5;124m\"\u001B[39m\u001B[38;5;124msteve\u001B[39m\u001B[38;5;124m\"\u001B[39m, \u001B[38;5;124m\"\u001B[39m\u001B[38;5;124m6789\u001B[39m\u001B[38;5;124m\"\u001B[39m)\n\u001B[1;32m---> 24\u001B[0m \u001B[43mSteve\u001B[49m\u001B[38;5;241;43m.\u001B[39;49m\u001B[43m__password\u001B[49m\n",
      "\u001B[1;31mAttributeError\u001B[0m: 'User' object has no attribute '__password'"
     ]
    }
   ],
   "source": [
    "class User:\n",
    "    def __init__(self, userName=None, password=None):\n",
    "        self.__userName = userName\n",
    "        self.__password = password\n",
    "\n",
    "    def login(self, userName, password):\n",
    "        if ((self.__userName.lower() == userName.lower())\n",
    "                and (self.__password == password)):\n",
    "            print(\n",
    "                \"Access Granted against username:\",\n",
    "                self.__userName.lower(),\n",
    "                \"and password:\",\n",
    "                self.__password)\n",
    "        else:\n",
    "            print(\"Invalid Credentials!\")\n",
    "\n",
    "\n",
    "def main():\n",
    "    Steve = getStudent()\n",
    "    Steve.login(\"steve\", \"12345\")  # Grants access because credentials are valid\n",
    "\n",
    "    # does not grant access since the credentials are invalid\n",
    "    Steve.login(\"steve\", \"6789\")\n",
    "    Steve.__password  # compilation error will occur due to this line\n",
    "\n",
    "\n",
    "def getStudent():\n",
    "    # created a new User object and stored the password and username\n",
    "    Steve = User(\"Steve\", \"12345\")\n",
    "    return Steve\n",
    "\n",
    "\n",
    "if __name__ == '__main__':\n",
    "    main()"
   ],
   "metadata": {
    "collapsed": false,
    "pycharm": {
     "name": "#%%\n"
    }
   }
  },
  {
   "cell_type": "markdown",
   "source": [],
   "metadata": {
    "collapsed": false,
    "pycharm": {
     "name": "#%% md\n"
    }
   }
  },
  {
   "cell_type": "markdown",
   "source": [],
   "metadata": {
    "collapsed": false,
    "pycharm": {
     "name": "#%% md\n"
    }
   }
  },
  {
   "cell_type": "markdown",
   "source": [],
   "metadata": {
    "collapsed": false,
    "pycharm": {
     "name": "#%% md\n"
    }
   }
  },
  {
   "cell_type": "code",
   "execution_count": 19,
   "outputs": [
    {
     "ename": "ValueError",
     "evalue": "Name is not in the Database!!",
     "output_type": "error",
     "traceback": [
      "\u001B[1;31m---------------------------------------------------------------------------\u001B[0m",
      "\u001B[1;31mValueError\u001B[0m                                Traceback (most recent call last)",
      "Input \u001B[1;32mIn [19]\u001B[0m, in \u001B[0;36m<cell line: 35>\u001B[1;34m()\u001B[0m\n\u001B[0;32m     33\u001B[0m     \u001B[38;5;28mprint\u001B[39m(user)\n\u001B[0;32m     35\u001B[0m \u001B[38;5;28;01mif\u001B[39;00m \u001B[38;5;18m__name__\u001B[39m \u001B[38;5;241m==\u001B[39m \u001B[38;5;124m'\u001B[39m\u001B[38;5;124m__main__\u001B[39m\u001B[38;5;124m'\u001B[39m:\n\u001B[1;32m---> 36\u001B[0m     \u001B[43mmain\u001B[49m\u001B[43m(\u001B[49m\u001B[43m)\u001B[49m\n",
      "Input \u001B[1;32mIn [19]\u001B[0m, in \u001B[0;36mmain\u001B[1;34m()\u001B[0m\n\u001B[0;32m     28\u001B[0m \u001B[38;5;28;01mdef\u001B[39;00m \u001B[38;5;21mmain\u001B[39m():\n\u001B[1;32m---> 29\u001B[0m     user \u001B[38;5;241m=\u001B[39m \u001B[43mUsers\u001B[49m\u001B[38;5;241;43m.\u001B[39;49m\u001B[43mget\u001B[49m\u001B[43m(\u001B[49m\u001B[43m)\u001B[49m\n\u001B[0;32m     30\u001B[0m     user\u001B[38;5;241m.\u001B[39muser_name \u001B[38;5;241m=\u001B[39m \u001B[38;5;124m\"\u001B[39m\u001B[38;5;124majao\u001B[39m\u001B[38;5;124m\"\u001B[39m\n\u001B[0;32m     31\u001B[0m     \u001B[38;5;66;03m# user.user_name = \"Adjoa\"\u001B[39;00m\n",
      "Input \u001B[1;32mIn [19]\u001B[0m, in \u001B[0;36mUsers.get\u001B[1;34m(cls)\u001B[0m\n\u001B[0;32m     12\u001B[0m name \u001B[38;5;241m=\u001B[39m \u001B[38;5;28minput\u001B[39m(\u001B[38;5;124m\"\u001B[39m\u001B[38;5;124mName: \u001B[39m\u001B[38;5;124m\"\u001B[39m)\n\u001B[0;32m     13\u001B[0m age \u001B[38;5;241m=\u001B[39m \u001B[38;5;28minput\u001B[39m(\u001B[38;5;124m\"\u001B[39m\u001B[38;5;124mHouse: \u001B[39m\u001B[38;5;124m\"\u001B[39m)\n\u001B[1;32m---> 14\u001B[0m \u001B[38;5;28;01mreturn\u001B[39;00m \u001B[38;5;28;43mcls\u001B[39;49m\u001B[43m(\u001B[49m\u001B[43mname\u001B[49m\u001B[43m,\u001B[49m\u001B[43m \u001B[49m\u001B[43mage\u001B[49m\u001B[43m)\u001B[49m\n",
      "Input \u001B[1;32mIn [19]\u001B[0m, in \u001B[0;36mUsers.__init__\u001B[1;34m(self, age, name)\u001B[0m\n\u001B[0;32m      3\u001B[0m \u001B[38;5;28;01mdef\u001B[39;00m \u001B[38;5;21m__init__\u001B[39m(\u001B[38;5;28mself\u001B[39m,age, name\u001B[38;5;241m=\u001B[39m\u001B[38;5;28;01mNone\u001B[39;00m):\n\u001B[1;32m----> 4\u001B[0m     \u001B[38;5;28;43mself\u001B[39;49m\u001B[38;5;241;43m.\u001B[39;49m\u001B[43muser_name\u001B[49m \u001B[38;5;241m=\u001B[39m name\n\u001B[0;32m      5\u001B[0m     \u001B[38;5;28mself\u001B[39m\u001B[38;5;241m.\u001B[39mage \u001B[38;5;241m=\u001B[39m age\n",
      "Input \u001B[1;32mIn [19]\u001B[0m, in \u001B[0;36mUsers.user_name\u001B[1;34m(self, name)\u001B[0m\n\u001B[0;32m     23\u001B[0m     \u001B[38;5;28mself\u001B[39m\u001B[38;5;241m.\u001B[39m_user_name \u001B[38;5;241m=\u001B[39m name\n\u001B[0;32m     24\u001B[0m \u001B[38;5;28;01melse\u001B[39;00m:\n\u001B[1;32m---> 25\u001B[0m     \u001B[38;5;28;01mraise\u001B[39;00m \u001B[38;5;167;01mValueError\u001B[39;00m( \u001B[38;5;124m\"\u001B[39m\u001B[38;5;124mName is not in the Database!!\u001B[39m\u001B[38;5;124m\"\u001B[39m)\n",
      "\u001B[1;31mValueError\u001B[0m: Name is not in the Database!!"
     ]
    }
   ],
   "source": [
    "\n",
    "class Users:\n",
    "\n",
    "    def __init__(self,age, name=None):\n",
    "        self.user_name = name\n",
    "        self.age = age\n",
    "\n",
    "    def __str__(self):\n",
    "        return f\"User's name is {self.user_name}\"\n",
    "\n",
    "    @classmethod\n",
    "    def get(cls):\n",
    "        name = input(\"Name: \")\n",
    "        age = input(\"House: \")\n",
    "        return cls(name, age)\n",
    "\n",
    "    @property # Getter\n",
    "    def user_name(self):\n",
    "        return f\"{self._user_name}!\"\n",
    "\n",
    "    @user_name.setter # Setter\n",
    "    def user_name(self, name):\n",
    "        if name in [None,\"kwaku\", \"kwame\", \"Jane\", \"kusi\", \"ajao\"]:\n",
    "            self._user_name = name\n",
    "        else:\n",
    "            raise ValueError( \"Name is not in the Database!!\")\n",
    "\n",
    "\n",
    "def main():\n",
    "    user = Users.get()\n",
    "    user.user_name = \"ajao\"\n",
    "    # user.user_name = \"Adjoa\"\n",
    "    print(user.user_name)\n",
    "    print(user)\n",
    "\n",
    "if __name__ == '__main__':\n",
    "    # main()\n"
   ],
   "metadata": {
    "collapsed": false,
    "pycharm": {
     "name": "#%%\n"
    }
   }
  },
  {
   "cell_type": "markdown",
   "source": [],
   "metadata": {
    "collapsed": false,
    "pycharm": {
     "name": "#%% md\n"
    }
   }
  },
  {
   "cell_type": "markdown",
   "source": [
    "# class Methods and variable\n",
    "@classmethod"
   ],
   "metadata": {
    "collapsed": false,
    "pycharm": {
     "name": "#%% md\n"
    }
   }
  },
  {
   "cell_type": "code",
   "execution_count": 17,
   "outputs": [
    {
     "name": "stdout",
     "output_type": "stream",
     "text": [
      "Elijah is in Gryffindor\n"
     ]
    }
   ],
   "source": [
    "import random\n",
    "class Hat:\n",
    "    houses = [\"Gryffindor\", \"Hufflepuff\", \"Ravenclaw\", \"Slytherin\"]\n",
    "\n",
    "    @classmethod\n",
    "    def sort(cls, name):\n",
    "        print(name, \"is in\", random.choice(cls.houses))\n",
    "\n",
    "Hat.sort(\"Elijah\")"
   ],
   "metadata": {
    "collapsed": false,
    "pycharm": {
     "name": "#%%\n"
    }
   }
  },
  {
   "cell_type": "markdown",
   "source": [],
   "metadata": {
    "collapsed": false,
    "pycharm": {
     "name": "#%% md\n"
    }
   }
  },
  {
   "cell_type": "markdown",
   "source": [
    "# Inheritance"
   ],
   "metadata": {
    "collapsed": false,
    "pycharm": {
     "name": "#%% md\n"
    }
   }
  },
  {
   "cell_type": "code",
   "execution_count": 20,
   "outputs": [],
   "source": [
    "class Wizard:\n",
    "    def __init__(self, name):\n",
    "        if not name:\n",
    "            raise ValueError(\"missing name\")\n",
    "        self.name = name\n",
    "\n",
    "class Student(Wizard):\n",
    "    def __init__(self, name, house):\n",
    "        super().__init__(name)\n",
    "        self.house = house\n",
    "\n",
    "    ...\n",
    "\n",
    "class Professor(Wizard):\n",
    "    def __init__(self, name, subject):\n",
    "        super().__init__(name)\n",
    "        self.subject = subject\n",
    "\n",
    "student = Student(\"Harry\", \"Gryffindor\")\n",
    "professor = Professor(\"Severus\", \"Defense Against the Dark World!\")\n"
   ],
   "metadata": {
    "collapsed": false,
    "pycharm": {
     "name": "#%%\n"
    }
   }
  }
 ],
 "metadata": {
  "kernelspec": {
   "display_name": "Python 3",
   "language": "python",
   "name": "python3"
  },
  "language_info": {
   "codemirror_mode": {
    "name": "ipython",
    "version": 2
   },
   "file_extension": ".py",
   "mimetype": "text/x-python",
   "name": "python",
   "nbconvert_exporter": "python",
   "pygments_lexer": "ipython2",
   "version": "2.7.6"
  }
 },
 "nbformat": 4,
 "nbformat_minor": 0
}