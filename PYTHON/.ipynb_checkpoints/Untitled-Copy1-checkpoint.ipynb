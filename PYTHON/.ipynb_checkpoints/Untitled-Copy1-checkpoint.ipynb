{
 "cells": [
  {
   "cell_type": "code",
   "execution_count": 5,
   "id": "bdac8680-9381-4475-886d-76220fbcffbd",
   "metadata": {},
   "outputs": [
    {
     "name": "stdout",
     "output_type": "stream",
     "text": [
      "Faisal\n",
      "[['Faisal', 'Maclean', 'Ernest']]\n",
      "3.908\n"
     ]
    }
   ],
   "source": [
    "names_of_people = [\"Faisal\", \"Maclean\", \"Ernest\"]\n",
    "everything_goes = {1:[names_of_people], 2:False, 3:3.908}\n",
    "first_name = names_of_people[0]\n",
    "print(first_name)\n",
    "print(everything_goes[1])\n",
    "print(everything_goes[3])"
   ]
  }
 ],
 "metadata": {
  "kernelspec": {
   "display_name": "Python 3 (ipykernel)",
   "language": "python",
   "name": "python3"
  },
  "language_info": {
   "codemirror_mode": {
    "name": "ipython",
    "version": 3
   },
   "file_extension": ".py",
   "mimetype": "text/x-python",
   "name": "python",
   "nbconvert_exporter": "python",
   "pygments_lexer": "ipython3",
   "version": "3.13.2"
  }
 },
 "nbformat": 4,
 "nbformat_minor": 5
}
