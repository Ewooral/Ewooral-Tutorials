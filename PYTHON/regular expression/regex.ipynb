{
 "cells": [
  {
   "cell_type": "code",
   "execution_count": 2,
   "metadata": {
    "collapsed": true,
    "pycharm": {
     "name": "#%%\n"
    }
   },
   "outputs": [
    {
     "name": "stdout",
     "output_type": "stream",
     "text": [
      "found word:cat\n",
      "found word:cat\n"
     ]
    }
   ],
   "source": [
    "import re\n",
    "\n",
    "str = 'an example word:cat!!'\n",
    "match = re.search(r'word:\\w\\w\\w', str)\n",
    "# If-statement after search() tests if it succeeded\n",
    "if match:\n",
    "  print('found', match.group()) ## 'found word:cat'\n",
    "else:\n",
    "  print('did not find')\n"
   ]
  },
  {
   "cell_type": "code",
   "execution_count": 3,
   "outputs": [
    {
     "name": "stdout",
     "output_type": "stream",
     "text": [
      "found app\n",
      "did not find app\n",
      "found app\n",
      "found app\n",
      "found app\n",
      "did not find app\n",
      "did not find app\n",
      "did not find app\n",
      "did not find app\n",
      "found app\n"
     ]
    }
   ],
   "source": [
    "import re\n",
    "\n",
    "shoppingCart = [\"pineapple\",\"orange\", \"apple\", \"apple\", \"pineapple\",\"orange\",  \"banana\", \"blueberries\", \"banana\", \"apple\"]\n",
    "for word in shoppingCart:\n",
    "    pattern = \"app\"\n",
    "    match = re.search(pattern, word)\n",
    "\n",
    "    print( f\"found {match.group()}\" if match else f\"did not find {pattern}\")\n",
    "    # if match:\n",
    "    #     print('found', match.group())\n",
    "    # else:\n",
    "    #     print(\"did not find\")\n"
   ],
   "metadata": {
    "collapsed": false,
    "pycharm": {
     "name": "#%%\n"
    }
   }
  }
 ],
 "metadata": {
  "kernelspec": {
   "display_name": "Python 3",
   "language": "python",
   "name": "python3"
  },
  "language_info": {
   "codemirror_mode": {
    "name": "ipython",
    "version": 2
   },
   "file_extension": ".py",
   "mimetype": "text/x-python",
   "name": "python",
   "nbconvert_exporter": "python",
   "pygments_lexer": "ipython2",
   "version": "2.7.6"
  }
 },
 "nbformat": 4,
 "nbformat_minor": 0
}