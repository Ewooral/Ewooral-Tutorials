{
 "cells": [
  {
   "cell_type": "markdown",
   "source": [
    "# REGULAR EXPRESSION\n",
    "are a powerful language for matching text patterns. This page gives a basic introduction\n",
    "to regular expressions themselves sufficient for our Python exercises and shows how regular\n",
    "expressions work in Python. The Python \"re\" module provides regular expression support."
   ],
   "metadata": {
    "collapsed": false,
    "pycharm": {
     "name": "#%% md\n"
    }
   }
  },
  {
   "cell_type": "code",
   "execution_count": 2,
   "metadata": {
    "collapsed": true,
    "pycharm": {
     "name": "#%%\n"
    }
   },
   "outputs": [
    {
     "name": "stdout",
     "output_type": "stream",
     "text": [
      "found word:cat\n",
      "found word:cat\n"
     ]
    }
   ],
   "source": [
    "\n",
    "\n",
    "import re\n",
    "\n",
    "str = 'an example word:cat!!'\n",
    "match = re.search(r'word:\\w\\w\\w\\b', str)\n",
    "# If-statement after search() tests if it succeeded\n",
    "if match:\n",
    "  print('found', match.group()) ## 'found word:cat'\n",
    "else:\n",
    "  print('did not find')\n"
   ]
  },
  {
   "cell_type": "markdown",
   "source": [
    "\n",
    "The `r` at the start of the pattern string designates a python `raw` string\n",
    "which passes through backslashes without change which is very handy for\n",
    "regular expressions (Java needs this feature badly!).\n",
    "I recommend that you always write pattern strings with the 'r' just as a habit.\n",
    "\n"
   ],
   "metadata": {
    "collapsed": false,
    "pycharm": {
     "name": "#%% md\n"
    }
   }
  },
  {
   "cell_type": "code",
   "execution_count": 16,
   "outputs": [
    {
     "name": "stdout",
     "output_type": "stream",
     "text": [
      "found apple\n",
      "<re.Match object; span=(4, 9), match='apple'> <re.Match object; span=(4, 9), match='apple'> <re.Match object; span=(4, 9), match='apple'> <re.Match object; span=(4, 9), match='apple'> <re.Match object; span=(4, 9), match='apple'>\n",
      "found apple\n",
      "<re.Match object; span=(0, 5), match='apple'> <re.Match object; span=(0, 5), match='apple'> <re.Match object; span=(0, 5), match='apple'> <re.Match object; span=(0, 5), match='apple'> <re.Match object; span=(0, 5), match='apple'>\n",
      "found apple\n",
      "<re.Match object; span=(0, 5), match='apple'> <re.Match object; span=(0, 5), match='apple'> <re.Match object; span=(0, 5), match='apple'> <re.Match object; span=(0, 5), match='apple'> <re.Match object; span=(0, 5), match='apple'>\n",
      "did not find apple\n",
      "None None None None None\n",
      "did not find apple\n",
      "None None None None None\n",
      "did not find apple\n",
      "None None None None None\n",
      "did not find apple\n",
      "None None None None None\n",
      "did not find apple\n",
      "None None None None None\n",
      "found apple\n",
      "<re.Match object; span=(4, 9), match='apple'> <re.Match object; span=(4, 9), match='apple'> <re.Match object; span=(4, 9), match='apple'> <re.Match object; span=(4, 9), match='apple'> <re.Match object; span=(4, 9), match='apple'>\n",
      "found apple\n",
      "<re.Match object; span=(4, 9), match='apple'> <re.Match object; span=(4, 9), match='apple'> <re.Match object; span=(4, 9), match='apple'> <re.Match object; span=(4, 9), match='apple'> <re.Match object; span=(4, 9), match='apple'>\n"
     ]
    }
   ],
   "source": [
    "import re\n",
    "\n",
    "shoppingCart = [\"pineapple\", \"orange\", \"apple\", \"apple\", \"pineapple\", \"orange\",  \"banana\", \"blueberries\", \"banana\", \"apple\"]\n",
    "for word in shoppingCart:\n",
    "    shoppingCart.sort()\n",
    "    pattern = r'apple'\n",
    "    pIdx = 0\n",
    "    res = []\n",
    "    match = re.search(pattern, word)\n",
    "    while pIdx < len(pattern):\n",
    "        match = re.search(pattern, word)\n",
    "        res.append(match)\n",
    "        pIdx += 1\n",
    "\n",
    "    print( f\"found {match.group()}\" if match else f\"did not find {pattern}\")\n",
    "    print(*res)\n",
    "    # if match:\n",
    "    #     print('found', match.group())\n",
    "    # else:\n",
    "    #     print(\"did not find\")"
   ],
   "metadata": {
    "collapsed": false,
    "pycharm": {
     "name": "#%%\n"
    }
   }
  },
  {
   "cell_type": "code",
   "execution_count": null,
   "outputs": [],
   "source": [],
   "metadata": {
    "collapsed": false,
    "pycharm": {
     "name": "#%%\n"
    }
   }
  }
 ],
 "metadata": {
  "kernelspec": {
   "display_name": "Python 3",
   "language": "python",
   "name": "python3"
  },
  "language_info": {
   "codemirror_mode": {
    "name": "ipython",
    "version": 2
   },
   "file_extension": ".py",
   "mimetype": "text/x-python",
   "name": "python",
   "nbconvert_exporter": "python",
   "pygments_lexer": "ipython2",
   "version": "2.7.6"
  }
 },
 "nbformat": 4,
 "nbformat_minor": 0
}