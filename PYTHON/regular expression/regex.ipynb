{
 "cells": [
  {
   "cell_type": "markdown",
   "metadata": {
    "collapsed": false
   },
   "source": [
    "# REGULAR EXPRESSION\n",
    "are a powerful language for matching text patterns. This page gives a basic introduction\n",
    "to regular expressions themselves sufficient for our Python exercises and shows how regular\n",
    "expressions work in Python. The Python \"re\" module provides regular expression support."
   ]
  },
  {
   "cell_type": "markdown",
   "metadata": {
    "collapsed": false
   },
   "source": [
    "`re.search(pattern, string, flags = 0)`\n",
    "\n",
    "`.` any character except a newline\n",
    "`*` 0 or more repetitions\n",
    "`+` 1 or more repetitions\n",
    "`?` 0 or 1 repetition\n",
    "`{m}` m repetitions\n",
    "`{m, n}` m - n repetitions\n",
    "\n",
    "`r` tells python to treat a certain string as a raw string in regular expression\n",
    "`\\` the escape character(backslash) is a way to convey that you want a new line\n",
    "`^` matches the start of the string\n",
    "`$` matches the end of the string or just before the newline at the end of the string\n",
    "`[]` set of characters\n",
    "`[^]` complementing the set. eg [^a] means accept every character except the `a` character\n",
    "`[a-zA-Z0-10_]` accepts characters `a` to `z`, capital `A` to `Z`, numbers `0` to any `number`,\n",
    "     and  underscore `_`\n",
    "`\\w` represents a word character which is an alpha numeric symbol or the underscore\n",
    "`\\d` decimal digit\n",
    "`\\D` not a decimal digit\n",
    "`\\s` whitespace characters\n",
    "`\\S` not a whitespace  character\n",
    "`\\w` word character ... as well as numbers or numerics and the underscore\n",
    "`\\W` not a word character\n",
    "`A|B` either A or B\n",
    "`(...)` a group of words. E.g.\n",
    "`(?:...)` non-capturing version\n",
    "\n",
    " `=> flags`\n",
    "re.IGNORECASE\n",
    "re.MULTILINE\n",
    "re.DOTALL\n",
    "\n",
    "NB. instead of `r\"\"`, we can use `f\"\"`so as to include variables and other important stuff\n",
    "`re.sub(pattern, repl, string, count=0, flags=0)` is used to substitute one thing for another\n",
    "\n",
    "`re.split(pattern, string, maxsplit=0, flags=0` splits a string not using a specific character(.,?) but multiple characters\n",
    "`re.findall(pattern, string, flags=0)` allows for the search of multiple copies of the same pattern\n",
    "in different places in the string\n"
   ]
  },
  {
   "cell_type": "code",
   "execution_count": 2,
   "metadata": {
    "collapsed": false
   },
   "outputs": [
    {
     "name": "stdout",
     "output_type": "stream",
     "text": [
      "Valid\n"
     ]
    }
   ],
   "source": [
    "import re\n",
    "\n",
    "def validateEmail():\n",
    "    email = input(\"What's your email? \").strip()\n",
    "    # if re.search(r\"^[a-zA-Z0-10_]+@[a-zA-Z0-10_]+\\.com$\", email):\n",
    "    if re.search(r\"^(\\w|\\.)+@(\\w+\\.)?\\w+\\.(com|edu|gov)$\", email, re.IGNORECASE):\n",
    "        \"\"\"\n",
    "        (\\w+\\.)? means we can accept more words, underscores, characters and\n",
    "        a literal . or we can accept nothing in the square bracket\n",
    "\n",
    "         we can represent [a-zA-Z0-10_] with \\w\n",
    "         and it will mean the same thing\n",
    "\n",
    "         We can also accept more literal strings by including\n",
    "         them in a parenthesis\n",
    "         (com|edu|gov|net)\n",
    "\n",
    "         ^ means the start of our string\n",
    "         + means 1 or more of the things to the left\n",
    "         [^@] means any character except the @ sign\n",
    "        \"\"\"\n",
    "\n",
    "        print(\"Valid\")\n",
    "    else:\n",
    "        print(\"invalid\")\n",
    "\n",
    "validateEmail()"
   ]
  },
  {
   "cell_type": "code",
   "execution_count": 3,
   "metadata": {
    "collapsed": true
   },
   "outputs": [
    {
     "name": "stdout",
     "output_type": "stream",
     "text": [
      "found word:cat\n"
     ]
    }
   ],
   "source": [
    "import re\n",
    "\n",
    "\n",
    "str = 'an example word:cat!!'\n",
    "match = re.search(r'word:\\w\\w\\w\\b', str)\n",
    "# If-statement after search() tests if it succeeded\n",
    "if match:\n",
    "  print('found', match.group()) ## 'found word:cat'\n",
    "else:\n",
    "  print('did not find')\n"
   ]
  },
  {
   "cell_type": "markdown",
   "metadata": {
    "collapsed": false
   },
   "source": [
    "\n",
    "The `r` at the start of the pattern string designates a python `raw` string\n",
    "which passes through backslashes without change which is very handy for\n",
    "regular expressions (Java needs this feature badly!).\n",
    "I recommend that you always write pattern strings with the 'r' just as a habit.\n",
    "\n"
   ]
  },
  {
   "cell_type": "code",
   "execution_count": 4,
   "metadata": {
    "collapsed": false
   },
   "outputs": [
    {
     "name": "stdout",
     "output_type": "stream",
     "text": [
      "hello, Elijah Owusu\n"
     ]
    }
   ],
   "source": [
    "import re\n",
    "\n",
    "def format():\n",
    "    name = input(\"What is your name? \").strip()\n",
    "\n",
    "    # walrus operator\n",
    "    \"\"\"\n",
    "    eliaa = \"No!\"\n",
    "    if eliaa:\n",
    "        print(\"I am Fine\") # OR\n",
    "\n",
    "    if elia:= \"Yes\":\n",
    "        print(\"I am Good\")\n",
    "    \"\"\"\n",
    "\n",
    "    if matches:= re.search(r\"^(.+), ?(.+)$\", name):\n",
    "        \"\"\"\n",
    "        In regular expression, counting using indexes starts from  1 and not 0\n",
    "        \"\"\"\n",
    "        name = matches.group(2) + \" \" + matches.group(1)\n",
    "    print(f\"hello, {name}\")\n",
    "\n",
    "format()"
   ]
  },
  {
   "cell_type": "markdown",
   "metadata": {
    "collapsed": false
   },
   "source": []
  },
  {
   "cell_type": "markdown",
   "metadata": {
    "collapsed": false
   },
   "source": []
  },
  {
   "cell_type": "code",
   "execution_count": 4,
   "metadata": {
    "collapsed": false
   },
   "outputs": [
    {
     "name": "stdout",
     "output_type": "stream",
     "text": [
      "Username: elia\n"
     ]
    }
   ],
   "source": [
    "import re\n",
    "\n",
    "# re.sub(pattern, repl, string, count=0, flags=0)\n",
    "\n",
    "def extractUsername():\n",
    "    url = input(\"URL: \").strip()\n",
    "    username = url.replace(\"https://twitter.com/\", \"\")\n",
    "    username1 = url.removeprefix(\"https://twitter.com/\")\n",
    "    # print(f\"Username: {username}\")\n",
    "\n",
    "    username2 = re.sub(r\"^(https?://)?(www\\.)?twitter.com/\", \"\", url)\n",
    "    # print(f\"Username: {username2}\")\n",
    "\n",
    "    if matches:=re.search(r\"^https?://(?:www\\.)?twitter\\.com/([a-z0-9_]+)\", url, re.IGNORECASE):\n",
    "        # ?:www\\. means we don't need to capture the www string when printing\n",
    "         print(f\"Username: {matches.group(1)}\")\n",
    "    else:\n",
    "        print(\"I need specifically, your twitter address!\")\n",
    "extractUsername()"
   ]
  }
 ],
 "metadata": {
  "kernelspec": {
   "display_name": "virtual",
   "language": "python",
   "name": "python3"
  },
  "language_info": {
   "codemirror_mode": {
    "name": "ipython",
    "version": 3
   },
   "file_extension": ".py",
   "mimetype": "text/x-python",
   "name": "python",
   "nbconvert_exporter": "python",
   "pygments_lexer": "ipython3",
   "version": "3.10.7"
  },
  "vscode": {
   "interpreter": {
    "hash": "2a6489a61dc465b5c0ef623b5596b385cae5574b7b64545564e17e79f650d25e"
   }
  }
 },
 "nbformat": 4,
 "nbformat_minor": 0
}
