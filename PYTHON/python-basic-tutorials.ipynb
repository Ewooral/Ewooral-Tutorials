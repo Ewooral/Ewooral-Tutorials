{
 "cells": [
  {
   "metadata": {},
   "cell_type": "markdown",
   "source": "# PYTHON TUTORIALS",
   "id": "9de32dcef89f891d"
  },
  {
   "metadata": {
    "ExecuteTime": {
     "end_time": "2025-06-06T15:27:24.536356Z",
     "start_time": "2025-06-06T15:27:17.946084Z"
    }
   },
   "cell_type": "code",
   "source": [
    "num1 = int(input(\"Enter a number: \"))\n",
    "print(\"first number: \", num1)\n",
    "num2 = int(input(\"Enter another number: \"))\n",
    "print(\"second number: \", num2)\n",
    "\n",
    "# Addition\n",
    "sum = num1 + num2\n",
    "print(\"Sum of the the two numbers is: \", sum)\n",
    "\n",
    "# Subtraction\n",
    "diff = num1 - num2\n",
    "print(\"Difference of the two numbers is: \", diff)\n",
    "\n",
    "# Multiplication\n",
    "product = num1 * num2\n",
    "print(\"Product of the two numbers is: \", product)\n",
    "\n",
    "# Division\n",
    "if num2 != 0:\n",
    "    quotient = num1 / num2\n",
    "    print(\"Quotient of the two numbers is: \", quotient);\n",
    "\n",
    "# Modulus\n",
    "remainder = num1 % num2\n",
    "print(\"Remainder of the two numbers is: \", remainder);\n",
    "\n",
    "    \n"
   ],
   "id": "fd20e77c46708039",
   "outputs": [
    {
     "name": "stdout",
     "output_type": "stream",
     "text": [
      "first number:  45\n",
      "second number:  21\n",
      "Sum of the the two numbers is:  66\n",
      "Difference of the two numbers is:  24\n",
      "Product of the two numbers is:  945\n",
      "Quotient of the two numbers is:  2.142857142857143\n",
      "Remainder of the two numbers is:  3\n"
     ]
    }
   ],
   "execution_count": 8
  },
  {
   "metadata": {},
   "cell_type": "markdown",
   "source": [
    "\n",
    "\n",
    "\n",
    "Problem 3: Grade Calculator\n",
    "\n",
    "Difficulty: Medium\n",
    "Topic: Chained Conditionals & Nested Statements\n",
    "Description: Write a Python program that takes a score (0-100) as input and prints the corresponding grade: A (90-100), B (80-89), C (70-79), D (60-69), F (<60).\n",
    "Example:\n",
    "\n",
    "\n",
    "\n",
    "\n",
    "\n",
    "Input: 85\n",
    "\n",
    "\n",
    "\n",
    "Output: B\n",
    "\n",
    "\n",
    "\n",
    "Input: 55\n",
    "\n",
    "\n",
    "\n",
    "Output: F\n",
    "\n",
    "Problem 4: Sum of First N Numbers\n",
    "\n",
    "Difficulty: Easy\n",
    "Topic: For Loops\n",
    "Description: Write a Python program that takes a positive integer n as input and calculates the sum of all numbers from 1 to n using a for loop.\n",
    "Example:\n",
    "\n",
    "\n",
    "\n",
    "\n",
    "\n",
    "Input: 5\n",
    "\n",
    "\n",
    "\n",
    "Output: 15 (1 + 2 + 3 + 4 + 5)\n",
    "\n",
    "Problem 5: Guess the Number\n",
    "\n",
    "Difficulty: Medium\n",
    "Topic: While Loops, Conditions\n",
    "Description: Write a Python program where the computer picks a random number between 1 and 10 (use import random; number = random.randint(1, 10)). The user has to guess the number, and the program should keep asking for input until the correct number is guessed. Provide hints (\"Too high\" or \"Too low\") after each guess.\n",
    "Example:\n",
    "\n",
    "\n",
    "\n",
    "\n",
    "\n",
    "Computer picks: 7\n",
    "\n",
    "\n",
    "\n",
    "Input: 4\n",
    "\n",
    "\n",
    "\n",
    "Output: Too low\n",
    "\n",
    "\n",
    "\n",
    "Input: 9\n",
    "\n",
    "\n",
    "\n",
    "Output: Too high\n",
    "\n",
    "\n",
    "\n",
    "Input: 7\n",
    "\n",
    "\n",
    "\n",
    "Output: Correct!"
   ],
   "id": "d1c29c3f1304cf66"
  },
  {
   "metadata": {},
   "cell_type": "markdown",
   "source": [
    "## Problem 1: Sum of Two Numbers\n",
    "\n",
    "Difficulty: Easy\n",
    "Topic: Variables & Data Types, Basic Operators & Input\n",
    "Description: Write a Python program that takes two numbers as input from the user and prints their sum.\n",
    "Example:\n",
    "\n",
    "Input: 3 5\n",
    "Output: 8\n"
   ],
   "id": "cbe3bb52f9fe98c1"
  },
  {
   "metadata": {
    "ExecuteTime": {
     "end_time": "2025-06-11T10:45:14.777801Z",
     "start_time": "2025-06-11T10:45:14.770136Z"
    }
   },
   "cell_type": "code",
   "source": [
    "def sum_of_two_numbers(num1: int, num2: int) -> int:\n",
    "    sum = num1 + num2\n",
    "    return sum\n",
    "\n",
    "def main():\n",
    "    arr1, arr2 = [10, 2, 89], [12, 2, -23]\n",
    "    i, j = 0, len(arr1)\n",
    "    while i < j:\n",
    "        sum = arr1[i] + arr2[i]\n",
    "        print(sum)\n",
    "        i += 1\n",
    "    return \"Completed!\"\n",
    "\n",
    "    result = sum_of_two_numbers(arr1[i], arr2[i])\n",
    "    print(f\"The sum of {arr1[i]} and {arr2[i]} is: {result}\")\n",
    "    \n",
    "if __name__ == \"__main__\":\n",
    "    main()\n"
   ],
   "id": "c437d8c6fb4ef904",
   "outputs": [
    {
     "name": "stdout",
     "output_type": "stream",
     "text": [
      "22\n",
      "4\n",
      "66\n"
     ]
    }
   ],
   "execution_count": 14
  },
  {
   "metadata": {},
   "cell_type": "markdown",
   "source": [
    "## Problem 2: Even or Odd\n",
    "\n",
    "Difficulty: Easy\n",
    "Topic: Conditions, if-elif-else\n",
    "Description: Write a Python program that takes an integer as input and determines if it is even or odd. Print \"Even\" if the number is divisible by 2, otherwise print \"Odd\".\n",
    "Example:\n",
    "\n",
    "\n",
    "\n",
    "\n",
    "\n",
    "Input: 4\n",
    "\n",
    "\n",
    "\n",
    "Output: Even\n",
    "\n",
    "\n",
    "\n",
    "Input: 7\n",
    "\n",
    "\n",
    "\n",
    "Output: Odd"
   ],
   "id": "c7eff14399ea5494"
  },
  {
   "metadata": {},
   "cell_type": "code",
   "outputs": [],
   "execution_count": null,
   "source": "",
   "id": "63b4f58bcdd9a1e5"
  },
  {
   "metadata": {},
   "cell_type": "markdown",
   "source": "",
   "id": "9449f4139ebb75e5"
  },
  {
   "cell_type": "code",
   "execution_count": null,
   "id": "initial_id",
   "metadata": {
    "collapsed": true
   },
   "outputs": [],
   "source": [
    "\n",
    "\n",
    "class School:\n",
    "    def __init__(self, teachers:list[str], students: list[str]):\n",
    "        self.teachers = teachers\n",
    "        self.students = students\n",
    "        \n",
    "    def register_as_student(self):\n",
    "        print(\"Registering as a student...\")\n",
    "        # Registration logic here\n",
    "        return \"Student registered successfully\"\n",
    "    \n",
    "def main():\n",
    "    first_school = School"
   ]
  },
  {
   "metadata": {},
   "cell_type": "code",
   "outputs": [],
   "execution_count": null,
   "source": "",
   "id": "801d0238bb1d0c92"
  },
  {
   "metadata": {},
   "cell_type": "markdown",
   "source": "",
   "id": "6808bee8a8fe3bc"
  }
 ],
 "metadata": {
  "kernelspec": {
   "display_name": "Python 3",
   "language": "python",
   "name": "python3"
  },
  "language_info": {
   "codemirror_mode": {
    "name": "ipython",
    "version": 2
   },
   "file_extension": ".py",
   "mimetype": "text/x-python",
   "name": "python",
   "nbconvert_exporter": "python",
   "pygments_lexer": "ipython2",
   "version": "2.7.6"
  }
 },
 "nbformat": 4,
 "nbformat_minor": 5
}
