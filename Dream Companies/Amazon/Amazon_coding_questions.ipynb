{
 "cells": [
  {
   "cell_type": "code",
   "execution_count": 11,
   "outputs": [
    {
     "name": "stdout",
     "output_type": "stream",
     "text": [
      "1\n",
      "0\n"
     ]
    }
   ],
   "source": [
    "from typing import List\n",
    "def freshPromotion(codeList:List, shoppingCart:List):\n",
    "    # check for edge cases\n",
    "    if codeList is None or len(codeList) == 0:\n",
    "        return 1\n",
    "    if shoppingCart is None or len(shoppingCart) == 0:\n",
    "        return 0\n",
    "    clIdx = scIdx = 0\n",
    "    while clIdx < len(codeList) and scIdx + len(codeList[clIdx]) <= len(shoppingCart):\n",
    "        match:bool = True\n",
    "        for itemIdx in range(len(codeList[clIdx])):\n",
    "            if not codeList[clIdx][itemIdx] == \"anything\" and not shoppingCart[itemIdx + scIdx] == codeList[clIdx][itemIdx]:\n",
    "                match = False\n",
    "                break\n",
    "        if match:\n",
    "            scIdx += len(codeList[clIdx])\n",
    "            clIdx += 1\n",
    "        else:\n",
    "            scIdx += 1\n",
    "    # return clIdx == len(codeList)\n",
    "    return 1 if clIdx == len(codeList) else 0\n",
    "\n",
    "def main():\n",
    "    codeList = [[\"apple\", \"apple\"], [\"banana\", \"anything\", \"banana\"]]\n",
    "    shoppingCart = [\"pineapple\",\"orange\", \"apple\", \"apple\", \"pineapple\",\"orange\",  \"banana\", \"blueberries\", \"banana\", \"apple\"]\n",
    "\n",
    "    codeList1 = [[\"apple\", \"apple\"], [\"banana\", \"anything\", \"banana\"]]\n",
    "    shoppingCart1 = [\"banana\", \"orange\", \"banana\", \"apple\",  \"apple\"]\n",
    "\n",
    "    print(freshPromotion(codeList, shoppingCart))\n",
    "    print(freshPromotion(codeList1, shoppingCart1))\n",
    "\n",
    "if __name__ == '__main__':\n",
    "    main()\n",
    "\n"
   ],
   "metadata": {
    "collapsed": false,
    "pycharm": {
     "name": "#%%\n"
    }
   }
  },
  {
   "cell_type": "markdown",
   "source": [
    "\n",
    "\n",
    "\n",
    "\n",
    "\n"
   ],
   "metadata": {
    "collapsed": false,
    "pycharm": {
     "name": "#%% md\n"
    }
   }
  },
  {
   "cell_type": "code",
   "execution_count": 12,
   "outputs": [
    {
     "name": "stdout",
     "output_type": "stream",
     "text": [
      "\n"
     ]
    }
   ],
   "source": [
    "class WareHouse:\n",
    "    def __init__(self, size):\n",
    "        self.max_size = size\n",
    "        self.wareHouse = []\n",
    "\n",
    "        self.queue = []\n",
    "\n",
    "    def insert_in(self, package):\n",
    "        if self.isFull():\n",
    "            return \"queue is full!\"\n",
    "        self.queue.append(package)\n",
    "        return \"Inserted successfully\"\n",
    "\n",
    "    def isEmpty(self):\n",
    "        return len(self.queue) == 0\n",
    "\n",
    "    def isFull(self):\n",
    "        return  len(self.queue) >= self.max_size\n",
    "\n",
    "def performWareHouseQuery(wH):\n",
    "    res = []\n",
    "    if not wH.isFull():\n",
    "        wH.wareHouse.append([\"N/A\"])\n",
    "        return \"Shipment cannot be completed\"\n",
    "    for i in range(len(wH.queue)):\n",
    "        a = wH.queue.pop(0)\n",
    "        res.append(a)\n",
    "        if wH.isEmpty():\n",
    "            print(\"queue is empty\")\n",
    "    wH.wareHouse.append(res)\n",
    "    return wH.wareHouse\n",
    "\n",
    "ware_house = WareHouse(size=3)\n",
    "print()\n",
    "# print(\"....Group 1....\")\n",
    "# # insert\n",
    "# print(ware_house.insert_in(\"NJ513501348\"))\n",
    "# print(ware_house.insert_in(\"GP235136011\"))\n",
    "#\n",
    "# print(\"Ship 1\")\n",
    "# print(performWareHouseQuery(ware_house))\n",
    "#\n",
    "# # insert\n",
    "# print(ware_house.insert_in(\"ER6245096201\"))\n",
    "#\n",
    "# print(\"Ship 2\")\n",
    "# print(performWareHouseQuery(ware_house))\n",
    "#\n",
    "# print()\n",
    "# print(\"....Group 2....\")\n",
    "# # insert\n",
    "# print(ware_house.insert_in(\"NJ7006246135\"))\n",
    "# print(ware_house.insert_in(\"NJ7003346199\"))\n",
    "#\n",
    "# print(\"Ship 1\")\n",
    "# print(performWareHouseQuery(ware_house))\n",
    "#\n",
    "# # insert\n",
    "# print(ware_house.insert_in(\"NJ8994446200\"))\n",
    "#\n",
    "# print(\"Ship 2\")\n",
    "# print(performWareHouseQuery(ware_house))\n",
    "#\n",
    "# print()\n",
    "# print(\"....Group 3....\")\n",
    "# # insert\n",
    "# print(ware_house.insert_in(\"BF7006246000\"))\n",
    "# print(ware_house.insert_in(\"KU7003346455\"))\n",
    "#\n",
    "# print(\"Ship 1\")\n",
    "# print(performWareHouseQuery(ware_house))\n",
    "#\n",
    "# # insert\n",
    "# print(ware_house.insert_in(\"AG8994446900\"))\n",
    "#\n",
    "# print(\"Ship 2\")\n",
    "# print(performWareHouseQuery(ware_house))\n",
    "\n"
   ],
   "metadata": {
    "collapsed": false,
    "pycharm": {
     "name": "#%%\n"
    }
   }
  },
  {
   "cell_type": "markdown",
   "source": [
    "\n",
    "\n",
    "\n",
    "\n",
    "\n",
    "\n",
    "\n",
    "\n"
   ],
   "metadata": {
    "collapsed": false,
    "pycharm": {
     "name": "#%% md\n"
    }
   }
  },
  {
   "cell_type": "code",
   "execution_count": 13,
   "outputs": [],
   "source": [
    "def countPossibleSegments1(w, k):\n",
    "    balanced_weights = start = end = 0\n",
    "    while start < len(w):\n",
    "        max_w = max(w[start], w[end])\n",
    "        min_w = min(w[start], w[end])\n",
    "        diff = max_w - min_w\n",
    "        if diff <= k:\n",
    "            balanced_weights += 1\n",
    "            end += 1\n",
    "            if end == len(w):\n",
    "                start += 1\n",
    "                end = start\n",
    "\n",
    "        elif diff > k or end == len(w):\n",
    "            start += 1\n",
    "            end = start\n",
    "\n",
    "    return balanced_weights\n"
   ],
   "metadata": {
    "collapsed": false,
    "pycharm": {
     "name": "#%%\n"
    }
   }
  },
  {
   "cell_type": "code",
   "execution_count": 14,
   "outputs": [
    {
     "name": "stdout",
     "output_type": "stream",
     "text": [
      "5\n",
      "4\n",
      "6\n"
     ]
    }
   ],
   "source": [
    "def main():\n",
    "    weightsI = [1, 3, 6]\n",
    "    weightsII = [1, 5, 4]\n",
    "    weightsIII = [1, 10, 2]\n",
    "    k = 3\n",
    "    k1 = 9\n",
    "    print(countPossibleSegments1(weightsI, k))\n",
    "    print(countPossibleSegments1(weightsII, k))\n",
    "    print(countPossibleSegments1(weightsIII, k1))\n",
    "\n",
    "\n",
    "if __name__ == '__main__':\n",
    "    main()"
   ],
   "metadata": {
    "collapsed": false,
    "pycharm": {
     "name": "#%%\n"
    }
   }
  },
  {
   "cell_type": "code",
   "execution_count": 14,
   "outputs": [],
   "source": [],
   "metadata": {
    "collapsed": false,
    "pycharm": {
     "name": "#%%\n"
    }
   }
  },
  {
   "cell_type": "code",
   "execution_count": 14,
   "outputs": [],
   "source": [],
   "metadata": {
    "collapsed": false,
    "pycharm": {
     "name": "#%%\n"
    }
   }
  }
 ],
 "metadata": {
  "kernelspec": {
   "display_name": "Python 3",
   "language": "python",
   "name": "python3"
  },
  "language_info": {
   "codemirror_mode": {
    "name": "ipython",
    "version": 2
   },
   "file_extension": ".py",
   "mimetype": "text/x-python",
   "name": "python",
   "nbconvert_exporter": "python",
   "pygments_lexer": "ipython2",
   "version": "2.7.6"
  }
 },
 "nbformat": 4,
 "nbformat_minor": 0
}