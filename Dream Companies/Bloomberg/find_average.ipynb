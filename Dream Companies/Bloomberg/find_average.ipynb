{
 "cells": [
  {
   "cell_type": "code",
   "execution_count": 1,
   "outputs": [
    {
     "name": "stdout",
     "output_type": "stream",
     "text": [
      "['100.0000', '283.8067', '157.5833']\n",
      "[200, 100, 150]\n"
     ]
    }
   ],
   "source": [
    "# Bloomberg Coding Interview Question\n",
    "class findAverage:\n",
    "    def __init__(self, In:list, out:list):\n",
    "      self.In = In\n",
    "      self.out = out\n",
    "\n",
    "    def swipeIn(self):\n",
    "      return self.In\n",
    "\n",
    "    def swipeOut(self):\n",
    "      return self.out\n",
    "\n",
    "    def average(self):\n",
    "      f_average = []\n",
    "      for i in range(len(self.swipeIn())):\n",
    "        time_taken = self.swipeOut()[i] - self.swipeIn()[i]\n",
    "        average = f\"{(time_taken / len(self.swipeIn())):.4f}\"\n",
    "        f_average.append(average)\n",
    "      return f_average\n",
    "\n",
    "\n",
    "\n",
    "\n",
    "\n",
    "f = findAverage([200, 100, 150], [500, 951.42, 622.75])\n",
    "print(f.average())\n",
    "print(f.swipeIn())"
   ],
   "metadata": {
    "collapsed": false,
    "pycharm": {
     "name": "#%%\n"
    }
   }
  },
  {
   "cell_type": "code",
   "execution_count": null,
   "outputs": [],
   "source": [],
   "metadata": {
    "collapsed": false,
    "pycharm": {
     "name": "#%%\n"
    }
   }
  }
 ],
 "metadata": {
  "kernelspec": {
   "display_name": "Python 3",
   "language": "python",
   "name": "python3"
  },
  "language_info": {
   "codemirror_mode": {
    "name": "ipython",
    "version": 2
   },
   "file_extension": ".py",
   "mimetype": "text/x-python",
   "name": "python",
   "nbconvert_exporter": "python",
   "pygments_lexer": "ipython2",
   "version": "2.7.6"
  }
 },
 "nbformat": 4,
 "nbformat_minor": 0
}