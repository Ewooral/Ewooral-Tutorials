{
 "cells": [
  {
   "cell_type": "markdown",
   "source": [
    "# INDUCTIVE HYPOTHESIS\n",
    "\n",
    "We know that 1+2+3+···+N = N(N + 1)/2 holds for a number N\n",
    "so if `n = 5`, then we'll have `5(5 + 1)/2 = 15`\n",
    "=> 1 + 2 + 3 + 4 + 5 = 15\n"
   ],
   "metadata": {
    "collapsed": false,
    "pycharm": {
     "name": "#%% md\n"
    }
   }
  },
  {
   "cell_type": "code",
   "execution_count": 11,
   "outputs": [
    {
     "data": {
      "text/plain": "15.0"
     },
     "execution_count": 11,
     "metadata": {},
     "output_type": "execute_result"
    }
   ],
   "source": [
    "def add_num(n):\n",
    "  if n in [0, 1]:\n",
    "    return n\n",
    "  else:\n",
    "    m = n * (n + 1)/ 2\n",
    "    return m\n",
    "add_num(5)"
   ],
   "metadata": {
    "collapsed": false,
    "pycharm": {
     "name": "#%%\n"
    }
   }
  },
  {
   "cell_type": "markdown",
   "source": [
    "\n",
    "To prove that this formula holds for number N + 1\n",
    "1 + 2 + 3 +...+ N + (N + 1).\n",
    "but we know that 1 + 2 + 3 + ... N  is equal to N*(N + 1)/2\n",
    "Therefore, N*(N + 1)/2 + (N + 1)\n",
    "           = (N2 + 3N + 2)/2\n",
    "           = (N + 1)*(N +2)/2\n",
    "\n"
   ],
   "metadata": {
    "collapsed": false,
    "pycharm": {
     "name": "#%% md\n"
    }
   }
  },
  {
   "cell_type": "code",
   "execution_count": 12,
   "outputs": [
    {
     "data": {
      "text/plain": "21.0"
     },
     "execution_count": 12,
     "metadata": {},
     "output_type": "execute_result"
    }
   ],
   "source": [
    "def add_num(n):\n",
    "  if n in [0, 1]:\n",
    "    return n\n",
    "  else:\n",
    "    m = ((n + 1) * (n + 2))/ 2\n",
    "    return m\n",
    "add_num(5)"
   ],
   "metadata": {
    "collapsed": false,
    "pycharm": {
     "name": "#%%\n"
    }
   }
  },
  {
   "cell_type": "markdown",
   "source": [
    "\n",
    "\n",
    "\n",
    "## sum of the first N odd integers\n",
    "\n",
    "a simple formula for computing the sum of the first N odd integers:\n",
    "To find the next odd number: 1 + 3 + 5 + ... + (Nth odd number) = 2N - 1\n",
    "Therefore, 1 + 3 + 5 + ... + (2N - 1) = N^2\n",
    "Let's perform inductive proof of the formula\n",
    "\n",
    "Base step:\n",
    "Inductive derivation:\n",
    "1 + 3 + 5 + . . . + (2N - 1) = N^2\n",
    "`base step`   =>      1 = 1^2\n",
    "`Inductvie derivation`  => 1 + 3 + 5 + . . . + (2N - 1) + 2(N + 1) - 1\n",
    "                        =  N^2 + 2(N + 1) - 1\n",
    "                        = N2 + 2N + 1\n",
    "                        = (N + 1)^2"
   ],
   "metadata": {
    "collapsed": false,
    "pycharm": {
     "name": "#%% md\n"
    }
   }
  },
  {
   "cell_type": "code",
   "execution_count": 24,
   "outputs": [
    {
     "data": {
      "text/plain": "36"
     },
     "execution_count": 24,
     "metadata": {},
     "output_type": "execute_result"
    }
   ],
   "source": [
    "def add_num(n):\n",
    "  if n in [0, 1]:\n",
    "    return n\n",
    "  else:\n",
    "    m = n ** 2\n",
    "    return m\n",
    "add_num(6)"
   ],
   "metadata": {
    "collapsed": false,
    "pycharm": {
     "name": "#%%\n"
    }
   }
  },
  {
   "cell_type": "markdown",
   "source": [
    "\n",
    "\n",
    "\n"
   ],
   "metadata": {
    "collapsed": false,
    "pycharm": {
     "name": "#%% md\n"
    }
   }
  },
  {
   "cell_type": "markdown",
   "source": [
    "# Greatest Common Divisor"
   ],
   "metadata": {
    "collapsed": false,
    "pycharm": {
     "name": "#%% md\n"
    }
   }
  },
  {
   "cell_type": "code",
   "execution_count": 2,
   "outputs": [
    {
     "data": {
      "text/plain": "4"
     },
     "execution_count": 2,
     "metadata": {},
     "output_type": "execute_result"
    }
   ],
   "source": [
    "import math\n",
    "math.gcd(4, 80)"
   ],
   "metadata": {
    "collapsed": false,
    "pycharm": {
     "name": "#%%\n"
    }
   }
  },
  {
   "cell_type": "code",
   "execution_count": 5,
   "outputs": [
    {
     "data": {
      "text/plain": "4"
     },
     "execution_count": 5,
     "metadata": {},
     "output_type": "execute_result"
    }
   ],
   "source": [
    "def greatest_common_divisor(a, b):\n",
    "  while True:\n",
    "    if a == 0:\n",
    "      return b\n",
    "    if b == 0:\n",
    "      return a\n",
    "\n",
    "    a, b = b, a%b\n",
    "greatest_common_divisor(4, 80)"
   ],
   "metadata": {
    "collapsed": false,
    "pycharm": {
     "name": "#%%\n"
    }
   }
  },
  {
   "cell_type": "markdown",
   "source": [
    "# FIND POINTS\n",
    "considering two points p =(px, py) and q = (qx, qy). We consider the\n",
    "inversion or point reflection r = (rx, ry), of point p across point\n",
    "q to be 180 deg rotation of point p around q. Given n sets of points\n",
    "p and q, find r for each pair of points and print two space-separated\n",
    "integers denoting the respective values of rx and ry on a new line.\n",
    "\n",
    "##### Function Description\n",
    "complete the findPoint function in an editor\n",
    "findPoint has the following parameters:\n",
    "* int px, py, qx, qy: x and y coordinates for pints p and q\n",
    "\n",
    "##### Returns\n",
    "* int[2]: x and y coordinates of the reflected point r\n",
    "\n",
    "#### Input format\n",
    "The first line contains an integer n, denoting the number of sets of points\n",
    "Each of the n subsequent lines contains four space-separated integers\n",
    "that describe the respective values of px, py, qx and qy defining\n",
    "points p = (px, py) and q = (qx, qy)\n",
    "\n",
    "\n",
    "\n",
    "##### SOLUTION\n",
    "The midPoint formula is the (first coordinate + second coordinate)\n",
    " divided by 2. So for example to find the mid-point between R(2, 2)\n",
    "and P(0, 0) you have to use the formula separately for X and Y. So the\n",
    "middle for X is (Mx = (Rx + Px) / 2 ) and for Y is (My = (Ry + Py) / 2)\n",
    "\n",
    "Mx = (2 + 0) / 2 = 2 / 2 = 1\n",
    "\n",
    "My = (2 + 0) / 2 = 2 / 2 = 1\n",
    "\n",
    "so MidPoint is at coordinates M(1, 1).\n",
    "\n",
    "What if the MidPoint is given and we have to calculate the point\n",
    "at the other half of the line. Then we use the formula above.\n",
    "So for example if we are given P(0, 0) and the midpoint M(1, 1) you should find R(x, y).\n",
    "\n",
    "Mx = (Rx + Px) / 2 => Rx = 2Mx - Px\n",
    "\n",
    "My = (Ry + Py) / 2 => Ry = 2My - Py\n",
    "\n",
    "And thats how you find the coordinates for R."
   ],
   "metadata": {
    "collapsed": false,
    "pycharm": {
     "name": "#%% md\n"
    }
   }
  },
  {
   "cell_type": "code",
   "execution_count": 30,
   "outputs": [
    {
     "name": "stdout",
     "output_type": "stream",
     "text": [
      "2 2\n",
      "3 3\n"
     ]
    }
   ],
   "source": [
    "# def find_point():\n",
    "#     for i in range(int(input())):\n",
    "#         px, py, qx, qy = map(int, input().split())\n",
    "#         print(\"{0} {1}\".format(2*qx-px, 2*qy-py))\n",
    "\n",
    "\n",
    "def findPoint(n, arr):\n",
    "    idx = 0\n",
    "    for i in range(n):\n",
    "        px, py, qx, qy = map(int, arr[i])\n",
    "        print(\"{0} {1}\".format(2*qx-px, 2*qy-py))\n",
    "\n",
    "def main():\n",
    "  # find_point()\n",
    "  findPoint(2, [[0, 0, 1, 1], [1, 1, 2, 2]])\n",
    "\n",
    "main()"
   ],
   "metadata": {
    "collapsed": false,
    "pycharm": {
     "name": "#%%\n"
    }
   }
  },
  {
   "cell_type": "markdown",
   "source": [
    "\n",
    "\n",
    "\n",
    "\n",
    "\n"
   ],
   "metadata": {
    "collapsed": false,
    "pycharm": {
     "name": "#%% md\n"
    }
   }
  },
  {
   "cell_type": "markdown",
   "source": [
    "# Line Through Points\n",
    "Given an input points which is a list of lists that\n",
    "represents the points on the [x, y] plane. Determine\n",
    "the list that passes through the most points\n",
    "\n",
    "points = [\n",
    "[1, 1], [2, 2],\n",
    "[3, 3], [0, 4],\n",
    "[-2, 6], [4, 0],\n",
    "[2, 1]\n",
    "]\n",
    "\n",
    "* Generate every single possible line from two points\n",
    "  using `y = mx + b` where `m` is the `slope` or\n",
    "  `gradient` and `b` is the `y-intercept`\n",
    "\n",
    "* slope = (change in y or rise)/ (change in x or run)\n",
    "  - `run` is how far we go on the `x-axis`\n",
    "  - `rise` is how far we go up on the `y-axis`\n",
    "  - slope = rise/run\n",
    "\n",
    "* loop through all points and find the slope between two points. e.g p1 = [1, 1], p2 = [2, 2]\n",
    "* store all slopes in a hash table\n"
   ],
   "metadata": {
    "collapsed": false,
    "pycharm": {
     "name": "#%% md\n"
    }
   }
  },
  {
   "cell_type": "code",
   "execution_count": 34,
   "outputs": [
    {
     "name": "stdout",
     "output_type": "stream",
     "text": [
      "4\n"
     ]
    }
   ],
   "source": [
    "def line_through_points(points):\n",
    "  maxNum = 1\n",
    "  for Idx1, p1 in enumerate(points):\n",
    "    slopes = {}\n",
    "    for Idx2 in range(Idx1 + 1, len(points)):\n",
    "      p2 = points[Idx2]\n",
    "      rise, run = get_slope_of_line_between_points(p1, p2)\n",
    "      slopeKey = createHashableKeyForRational(rise, run)\n",
    "      if slopeKey not in slopes:\n",
    "        slopes[slopeKey] = 1\n",
    "      slopes[slopeKey] += 1\n",
    "    maxNum = max(maxNum, max(slopes.values(), default=0))\n",
    "  return maxNum\n",
    "\n",
    "\n",
    "def get_slope_of_line_between_points(p1, p2):\n",
    "  p1x, p1y = p1\n",
    "  p2x, p2y = p2\n",
    "  slope = [1, 0]\n",
    "  if p1x != p2x:\n",
    "    xDiff = p1x - p2x\n",
    "    yDiff = p1y - p2y\n",
    "    gcd = greatest_common_divisor(abs(xDiff), abs(yDiff))\n",
    "    xDiff = xDiff//gcd\n",
    "    yDiff = yDiff//gcd\n",
    "    if xDiff < 0:\n",
    "      xDiff *= -1\n",
    "      yDiff *= -1\n",
    "    slope = [yDiff, xDiff]\n",
    "  return slope\n",
    "\n",
    "def createHashableKeyForRational(numerator, denominator):\n",
    "  return str(numerator) + \":\" + str(denominator)\n",
    "\n",
    "def greatest_common_divisor(a, b):\n",
    "  while True:\n",
    "    if a == 0:\n",
    "      return b\n",
    "    if b == 0:\n",
    "      return a\n",
    "\n",
    "    a, b = b, a%b\n",
    "\n",
    "def main():\n",
    "  points = [\n",
    "    [1, 1], [2, 2],\n",
    "    [3, 3], [0, 4],\n",
    "    [-2, 6], [4, 0],\n",
    "    [2, 1]\n",
    "    ]\n",
    "  print(line_through_points(points))\n",
    "\n",
    "main()"
   ],
   "metadata": {
    "collapsed": false,
    "pycharm": {
     "name": "#%%\n"
    }
   }
  },
  {
   "cell_type": "code",
   "execution_count": 41,
   "outputs": [
    {
     "data": {
      "text/plain": "[-5, 3]"
     },
     "execution_count": 41,
     "metadata": {},
     "output_type": "execute_result"
    }
   ],
   "source": [
    "def get_slope_of_line_between_pointss(p1, p2):\n",
    "  p1x, p1y = p1\n",
    "  p2x, p2y = p2\n",
    "  slope = [1, 0]\n",
    "  if p1x != p2x:\n",
    "    xDiff = p1x - p2x\n",
    "    yDiff = p1y - p2y\n",
    "    gcd = greatest_common_divisor(abs(xDiff), abs(yDiff))\n",
    "    xDiff = xDiff//gcd\n",
    "    yDiff = yDiff//gcd\n",
    "    if xDiff < 0:\n",
    "      xDiff *= -1\n",
    "      yDiff *= -1\n",
    "    slope = [yDiff, xDiff]\n",
    "  return slope\n",
    "get_slope_of_line_between_pointss([1, 1], [-2, 6])"
   ],
   "metadata": {
    "collapsed": false,
    "pycharm": {
     "name": "#%%\n"
    }
   }
  },
  {
   "cell_type": "code",
   "execution_count": 53,
   "outputs": [
    {
     "data": {
      "text/plain": "-1.6666666666666667"
     },
     "execution_count": 53,
     "metadata": {},
     "output_type": "execute_result"
    }
   ],
   "source": [
    "import sys\n",
    "\n",
    "def slope(x1, y1, x2, y2):\n",
    "    if(x2 - x1 != 0):\n",
    "      return (float)(y2-y1)/(x2-x1)\n",
    "    return sys.maxsize\n",
    "slope(1, 1, -2, 6)"
   ],
   "metadata": {
    "collapsed": false,
    "pycharm": {
     "name": "#%%\n"
    }
   }
  },
  {
   "cell_type": "code",
   "execution_count": 43,
   "outputs": [
    {
     "data": {
      "text/plain": "-1.6666666666666667"
     },
     "execution_count": 43,
     "metadata": {},
     "output_type": "execute_result"
    }
   ],
   "source": [],
   "metadata": {
    "collapsed": false,
    "pycharm": {
     "name": "#%%\n"
    }
   }
  }
 ],
 "metadata": {
  "kernelspec": {
   "display_name": "Python 3",
   "language": "python",
   "name": "python3"
  },
  "language_info": {
   "codemirror_mode": {
    "name": "ipython",
    "version": 2
   },
   "file_extension": ".py",
   "mimetype": "text/x-python",
   "name": "python",
   "nbconvert_exporter": "python",
   "pygments_lexer": "ipython2",
   "version": "2.7.6"
  }
 },
 "nbformat": 4,
 "nbformat_minor": 0
}