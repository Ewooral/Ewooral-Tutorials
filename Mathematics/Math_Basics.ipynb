{
 "cells": [
  {
   "cell_type": "markdown",
   "source": [
    "# INDUCTIVE HYPOTHESIS\n",
    "\n",
    "We know that 1+2+3+···+N = N(N + 1)/2 holds for a number N\n",
    "so if `n = 5`, then we'll have `5(5 + 1)/2 = 15`\n",
    "=> 1 + 2 + 3 + 4 + 5 = 15\n"
   ],
   "metadata": {
    "collapsed": false,
    "pycharm": {
     "name": "#%% md\n"
    }
   }
  },
  {
   "cell_type": "code",
   "execution_count": 11,
   "outputs": [
    {
     "data": {
      "text/plain": "15.0"
     },
     "execution_count": 11,
     "metadata": {},
     "output_type": "execute_result"
    }
   ],
   "source": [
    "def add_num(n):\n",
    "  if n in [0, 1]:\n",
    "    return n\n",
    "  else:\n",
    "    m = n * (n + 1)/ 2\n",
    "    return m\n",
    "add_num(5)"
   ],
   "metadata": {
    "collapsed": false,
    "pycharm": {
     "name": "#%%\n"
    }
   }
  },
  {
   "cell_type": "markdown",
   "source": [
    "\n",
    "To prove that this formula holds for number N + 1\n",
    "1 + 2 + 3 +...+ N + (N + 1).\n",
    "but we know that 1 + 2 + 3 + ... N  is equal to N*(N + 1)/2\n",
    "Therefore, N*(N + 1)/2 + (N + 1)\n",
    "           = (N2 + 3N + 2)/2\n",
    "           = (N + 1)*(N +2)/2\n",
    "\n"
   ],
   "metadata": {
    "collapsed": false,
    "pycharm": {
     "name": "#%% md\n"
    }
   }
  },
  {
   "cell_type": "code",
   "execution_count": 12,
   "outputs": [
    {
     "data": {
      "text/plain": "21.0"
     },
     "execution_count": 12,
     "metadata": {},
     "output_type": "execute_result"
    }
   ],
   "source": [
    "def add_num(n):\n",
    "  if n in [0, 1]:\n",
    "    return n\n",
    "  else:\n",
    "    m = ((n + 1) * (n + 2))/ 2\n",
    "    return m\n",
    "add_num(5)"
   ],
   "metadata": {
    "collapsed": false,
    "pycharm": {
     "name": "#%%\n"
    }
   }
  },
  {
   "cell_type": "markdown",
   "source": [
    "\n",
    "\n",
    "\n",
    "## sum of the first N odd integers\n",
    "\n",
    "a simple formula for computing the sum of the first N odd integers:\n",
    "To find the next odd number: 1 + 3 + 5 + ... + (Nth odd number) = 2N - 1\n",
    "Therefore, 1 + 3 + 5 + ... + (2N - 1) = N^2\n",
    "Let's perform inductive proof of the formula\n",
    "\n",
    "Base step:\n",
    "Inductive derivation:\n",
    "1 + 3 + 5 + . . . + (2N - 1) = N^2\n",
    "`base step`   =>      1 = 1^2\n",
    "`Inductvie derivation`  => 1 + 3 + 5 + . . . + (2N - 1) + 2(N + 1) - 1\n",
    "                        =  N^2 + 2(N + 1) - 1\n",
    "                        = N2 + 2N + 1\n",
    "                        = (N + 1)^2"
   ],
   "metadata": {
    "collapsed": false,
    "pycharm": {
     "name": "#%% md\n"
    }
   }
  },
  {
   "cell_type": "code",
   "execution_count": 24,
   "outputs": [
    {
     "data": {
      "text/plain": "36"
     },
     "execution_count": 24,
     "metadata": {},
     "output_type": "execute_result"
    }
   ],
   "source": [
    "def add_num(n):\n",
    "  if n in [0, 1]:\n",
    "    return n\n",
    "  else:\n",
    "    m = n ** 2\n",
    "    return m\n",
    "add_num(6)"
   ],
   "metadata": {
    "collapsed": false,
    "pycharm": {
     "name": "#%%\n"
    }
   }
  },
  {
   "cell_type": "code",
   "execution_count": null,
   "outputs": [],
   "source": [],
   "metadata": {
    "collapsed": false,
    "pycharm": {
     "name": "#%%\n"
    }
   }
  }
 ],
 "metadata": {
  "kernelspec": {
   "display_name": "Python 3",
   "language": "python",
   "name": "python3"
  },
  "language_info": {
   "codemirror_mode": {
    "name": "ipython",
    "version": 2
   },
   "file_extension": ".py",
   "mimetype": "text/x-python",
   "name": "python",
   "nbconvert_exporter": "python",
   "pygments_lexer": "ipython2",
   "version": "2.7.6"
  }
 },
 "nbformat": 4,
 "nbformat_minor": 0
}